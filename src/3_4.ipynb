{
  "nbformat": 4,
  "nbformat_minor": 0,
  "metadata": {
    "colab": {
      "name": "DL_cw2_Q3.4.ipynb",
      "provenance": [],
      "collapsed_sections": [
        "FJ6Ex8hS_B7L"
      ]
    },
    "kernelspec": {
      "name": "python3",
      "display_name": "Python 3"
    },
    "accelerator": "GPU"
  },
  "cells": [
    {
      "cell_type": "markdown",
      "metadata": {
        "id": "j88QQGtpvf-U"
      },
      "source": [
        "# Deep Learning Coursework 2"
      ]
    },
    {
      "cell_type": "code",
      "metadata": {
        "colab": {
          "base_uri": "https://localhost:8080/"
        },
        "id": "T-sq5XBZ2ETD",
        "outputId": "b62b096e-9d9b-44db-e464-dbda3e39d667"
      },
      "source": [
        "from google.colab import drive\n",
        "drive.mount('/content/drive')\n",
        "%cd drive/MyDrive/DL_CW2/"
      ],
      "execution_count": 1,
      "outputs": [
        {
          "output_type": "stream",
          "text": [
            "Drive already mounted at /content/drive; to attempt to forcibly remount, call drive.mount(\"/content/drive\", force_remount=True).\n",
            "/content/drive/MyDrive/DL_CW2\n"
          ],
          "name": "stdout"
        }
      ]
    },
    {
      "cell_type": "markdown",
      "metadata": {
        "id": "qzsQjKirvxaN"
      },
      "source": [
        "## Question 3.4 : Bag of Vectors"
      ]
    },
    {
      "cell_type": "code",
      "metadata": {
        "id": "XSsd_2465dda",
        "colab": {
          "base_uri": "https://localhost:8080/",
          "height": 35
        },
        "outputId": "cd8a3324-a947-4711-9e0b-730fff42c143"
      },
      "source": [
        "# Import libraries\n",
        "\n",
        "# General \n",
        "import os, json\n",
        "import numpy as np\n",
        "import re\n",
        "from matplotlib import pyplot as plt\n",
        "import random\n",
        "from sklearn.preprocessing import OneHotEncoder\n",
        "from itertools import product\n",
        "\n",
        "# PyTorch\n",
        "import torch\n",
        "import torch.nn as nn\n",
        "from torch.utils.data import Dataset, DataLoader\n",
        "from torch.nn.utils.rnn import pad_sequence\n",
        "import torch.optim as optim\n",
        "import torch.nn.functional as F\n",
        "\n",
        "# Set device\n",
        "if torch.cuda.is_available():\n",
        "  device = torch.device(\"cuda\")\n",
        "else:\n",
        "  device = torch.device(\"cpu\")\n",
        "\n",
        "torch.cuda.get_device_name()"
      ],
      "execution_count": 2,
      "outputs": [
        {
          "output_type": "execute_result",
          "data": {
            "application/vnd.google.colaboratory.intrinsic+json": {
              "type": "string"
            },
            "text/plain": [
              "'Tesla T4'"
            ]
          },
          "metadata": {
            "tags": []
          },
          "execution_count": 2
        }
      ]
    },
    {
      "cell_type": "markdown",
      "metadata": {
        "id": "TjZ5QqGPv8uN"
      },
      "source": [
        "A common baseline before the advent of deep learning in natural language processing, was a “bag of words” model where one would take an input of a sequence of words and create a one-hot vector of the size of all words in the dataset and mark the presence of a word in the input by binary setting an index associated with that word in the vector. This accomplishes the task of turning a variable-length input such as a sentence, into a fixed-size input that is easier to process using for example a logistic-regression layer. For many years this proved to be a surprisingly – sometimes even frustratingly –strong baseline for many tasks, despite the fact that it creates a model that is oblivious to the order ofthe words in the input.\n",
        "\n",
        "Nowadays it is more common to use a “neuralised” version of this model, where instead of creating a binary vector, each word is first mapped to a fixed-size embedding – commonly these embeddings are pre-trained, using a method such as “word2vec”.  Then, one or several pooling operations is applied to the embeddings, to turn them into a fixed-size representation. Popular choices for pooling include element-wise mean, max, and min. If more than one pooling operation is used, the resulting vector for each pooling operation is concatenated, this representation is then passed to a multi-layerperceptron to provide a classification decision. Just like its ancestor the “bag of words”, this “bag of vectors” can be surprisingly difficult to beat, despite it also being completely ignorant of the word order in its input."
      ]
    },
    {
      "cell_type": "markdown",
      "metadata": {
        "id": "uKPpLKMYwO-F"
      },
      "source": [
        "To complete this task you are expected to:"
      ]
    },
    {
      "cell_type": "markdown",
      "metadata": {
        "id": "KG_M1qs7wTIO"
      },
      "source": [
        "1. Implement a bag of vectors model with a cross-entropy loss for the Stanford Sentiment Treebank data, based on the pre-trained word2vec embeddings provided in the Assignment Colaboratory notebook."
      ]
    },
    {
      "cell_type": "markdown",
      "metadata": {
        "id": "UqgOihmquTsh"
      },
      "source": [
        "**Load Data :**"
      ]
    },
    {
      "cell_type": "code",
      "metadata": {
        "id": "KwUiMUqhgQ7N"
      },
      "source": [
        "# Load sentences from SST dataset\n",
        "def loadsst(path):\n",
        "    xs = []\n",
        "    ys = []\n",
        "    file1 = open(path, 'r')\n",
        "    Lines = file1.readlines()\n",
        "    for line in Lines:\n",
        "        soup = line.split()\n",
        "        ys.append(int(soup[0].lstrip('(')))\n",
        "        tokens = []\n",
        "        for chunk in soup[2:]:\n",
        "            if not chunk.endswith(\")\"):\n",
        "                continue\n",
        "            tokens.append(chunk.rstrip(')'))\n",
        "        xs.append(tokens)\n",
        "    return xs, np.array(ys)\n",
        "\n",
        "# Cleanup sentences using text processing with regex\n",
        "def cleanup_sentences(sentences):\n",
        "    cleaned_sentences = []\n",
        "    for sentence in sentences:\n",
        "        text = ' '.join(sentence)\n",
        "        # remove punctuation\n",
        "        text = re.sub('[^a-zA-Z0-9]', ' ', text)\n",
        "        # remove multiple spaces\n",
        "        text = re.sub(r' +', ' ', text)\n",
        "        # remove newline\n",
        "        text = re.sub(r'\\n', ' ', text)\n",
        "        cleaned_sentences.append(text.split())\n",
        "    return cleaned_sentences\n",
        "\n",
        "# Load train, val and test sets\n",
        "train_x, train_y = loadsst(\"train.txt\")\n",
        "val_x, val_y = loadsst(\"dev.txt\")\n",
        "test_x, test_y = loadsst(\"test.txt\")\n",
        "\n",
        "# Cleanup sentences in datasets\n",
        "train_x = cleanup_sentences(train_x) \n",
        "val_x = cleanup_sentences(val_x)\n",
        "test_x = cleanup_sentences(test_x)"
      ],
      "execution_count": 3,
      "outputs": []
    },
    {
      "cell_type": "code",
      "metadata": {
        "colab": {
          "base_uri": "https://localhost:8080/"
        },
        "id": "cKK0qlFZR5Kq",
        "outputId": "5654c2d1-8ff9-48b4-cca6-36c31a464e58"
      },
      "source": [
        "# Inspect sample data\n",
        "random.seed(1)\n",
        "for i in range(31):\n",
        "  i = random.randint(1, len(train_x))\n",
        "  print(train_y[i], \" : \" , \" \".join(train_x[i]))"
      ],
      "execution_count": 4,
      "outputs": [
        {
          "output_type": "stream",
          "text": [
            "2  :  It is there to give them a good time\n",
            "4  :  The Emperor s Club ruthless in its own placid way finds one of our most conservative and hidebound movie making traditions and gives it new texture new relevance new reality\n",
            "1  :  There s no point in extracting the bare bones of Byatt s plot for purposes of bland Hollywood romance\n",
            "2  :  OK arthouse\n",
            "0  :  You have no affinity for most of the characters\n",
            "1  :  Real life strongman Ahola lacks the charisma and ability to carry the film on his admittedly broad shoulders\n",
            "3  :  An encouraging effort from McCrudden\n",
            "2  :  Your taste for Jonah A Veggie Tales Movie may well depend on your threshold for pop manifestations of the Holy Spirit\n",
            "2  :  Underachieves only in not taking the Shakespeare parallels quite far enough\n",
            "4  :  It s a fun adventure movie for kids LRB of all ages RRB that like adventure\n",
            "0  :  The characters are paper thin and their personalities undergo radical changes when it suits the script\n",
            "3  :  Plays out with a dogged and eventually winning squareness that would make it the darling of many a kids and family oriented cable channel\n",
            "1  :  Represents the depths to which the girls behaving badly film has fallen\n",
            "0  :  Weighted down with slow uninvolving storytelling and flat acting\n",
            "3  :  But tongue in cheek preposterousness has always been part of For the most part Wilde s droll whimsy helps Being Earnest overcome its weaknesses and Parker s creative interference\n",
            "1  :  If routine action and jokes like this are your cup of tea then pay your 8 and get ready for the big shear\n",
            "1  :  The basic premise is intriguing but quickly becomes distasteful and downright creepy\n",
            "3  :  A smart and funny albeit sometimes superficial cautionary tale of a technology in search of an artist\n",
            "3  :  Short story quaint touchingly mending a child s pain for his dead mother via communication with an old woman straight out of Eudora Welty\n",
            "2  :  There s something not entirely convincing about The Quiet American\n",
            "3  :  The bodily function jokes are about what you d expect but there are rich veins of funny stuff in this movie\n",
            "3  :  If Ayurveda can help us return to a sane regimen of eating sleeping and stress reducing contemplation it is clearly a good thing\n",
            "4  :  A sexy peculiar and always entertaining costume drama set in Renaissance Spain and the fact that it s based on true events somehow makes it all the more compelling\n",
            "3  :  If you re willing to have fun with it you wo n t feel cheated by the high infidelity of Unfaithful\n",
            "2  :  Are monsters born or made\n",
            "1  :  Can I admit XXX is as deep as a Petri dish and as well characterized as a telephone book but still say it was a guilty pleasure\n",
            "0  :  Godard s ode to tackling life s wonderment is a rambling and incoherent manifesto about the vagueness of topical excess In Praise of Love remains a ponderous and pretentious endeavor that s unfocused and tediously exasperating\n",
            "4  :  Weaver and LaPaglia are both excellent in the kind of low key way that allows us to forget that they are actually movie folk\n",
            "4  :  A movie of riveting power and sadness\n",
            "1  :  In the end Tuck Everlasting falls victim to that everlasting conundrum experienced by every human who ever lived too much to do too little time to do it in\n",
            "1  :  It s a mystery how the movie could be released in this condition\n"
          ],
          "name": "stdout"
        }
      ]
    },
    {
      "cell_type": "markdown",
      "metadata": {
        "id": "eBuvXC4kug3F"
      },
      "source": [
        "**Load Word2Vec Pretrained embeddings**"
      ]
    },
    {
      "cell_type": "code",
      "metadata": {
        "id": "AAVupPzfiNuc"
      },
      "source": [
        "# Load pretrained word2vec embeddings\n",
        "from gensim.models import KeyedVectors\n",
        "w2v = KeyedVectors.load_word2vec_format('GoogleNews-vectors-negative300.bin', binary=True)\n",
        "weights = torch.FloatTensor(w2v.vectors)"
      ],
      "execution_count": 5,
      "outputs": []
    },
    {
      "cell_type": "markdown",
      "metadata": {
        "id": "CNZV_zEjumv2"
      },
      "source": [
        "**Create PyTorch Dataset of the Data**"
      ]
    },
    {
      "cell_type": "code",
      "metadata": {
        "id": "sqQaYrIS8Q1T"
      },
      "source": [
        "# Create Data Class\n",
        "class Data(Dataset):\n",
        "\n",
        "  # Constructor\n",
        "  def __init__(self, x_values, y_values, embedding):\n",
        "\n",
        "    # For passing the sentences to the model, we need to convert the words in each sentence to and index of the word in the word2vec vocab.\n",
        "    # If the word is not in the vocab, then we substitute with \"UNK\"\n",
        "    # Because the sentences are of varied length, we also pad with the \"UNK\" to fix the length\n",
        "    self.x = self.sentences2indxs(sentences=x_values, embedding=embedding, padding_value=0)\n",
        "\n",
        "    # Store the sentence sentiment classes as a tensor\n",
        "    self.y = torch.as_tensor(y_values)\n",
        "\n",
        "    # store number of sentences in the dataset\n",
        "    self.len = self.y.size()[0]\n",
        "    \n",
        "  # Getter\n",
        "  def __getitem__(self, index):\n",
        "    return self.x[index], self.y[index]\n",
        "\n",
        "  # Get Length\n",
        "  def __len__(self):\n",
        "    return self.len\n",
        "\n",
        "  # Create indices representation of each sentence\n",
        "  def sentences2indxs(self, sentences, embedding, padding_value):\n",
        "\n",
        "    # Stores indices representation for each sentence\n",
        "    idxs = []\n",
        "    for sentence in sentences:\n",
        "      # Store indices representation for a single sentence\n",
        "      idx = []\n",
        "      for word in sentence:\n",
        "        if word in w2v:\n",
        "          idx.append(embedding.vocab[word].index)\n",
        "        else:\n",
        "          idx.append(embedding.vocab[\"UNK\"].index)\n",
        "      idx = torch.as_tensor(idx)\n",
        "      idxs.append(idx)\n",
        "\n",
        "    # Pad sentences:\n",
        "    padded = pad_sequence(idxs, batch_first=True, padding_value=padding_value)\n",
        "    return padded"
      ],
      "execution_count": 6,
      "outputs": []
    },
    {
      "cell_type": "code",
      "metadata": {
        "colab": {
          "base_uri": "https://localhost:8080/"
        },
        "id": "kwM2eSQe5-C-",
        "outputId": "c1d21284-45b7-40a0-ac19-1df8c328da32"
      },
      "source": [
        "# Create Pytorch datasets for the train, val and test data\n",
        "train_data = Data(train_x, train_y, w2v)\n",
        "print(\"Number of training examples = {}\".format(len(train_data)))\n",
        "\n",
        "val_data = Data(val_x, val_y, w2v)\n",
        "print(\"Number of validation examples = {}\".format(len(val_data)))\n",
        "\n",
        "test_data = Data(test_x, test_y, w2v)\n",
        "print(\"Number of testing examples = {}\".format(len(test_data)))"
      ],
      "execution_count": 7,
      "outputs": [
        {
          "output_type": "stream",
          "text": [
            "Number of training examples = 8544\n",
            "Number of validation examples = 1101\n",
            "Number of testing examples = 2210\n"
          ],
          "name": "stdout"
        }
      ]
    },
    {
      "cell_type": "markdown",
      "metadata": {
        "id": "RAEeY8oqu4jk"
      },
      "source": [
        "**Create PyTorch MLP Model**"
      ]
    },
    {
      "cell_type": "code",
      "metadata": {
        "id": "6eALx52UxWEL"
      },
      "source": [
        "# Create model\n",
        "class MLP(nn.Module):\n",
        "\n",
        "  # Constructor\n",
        "  def __init__(self, Layers, embeddings, pool_type=\"mean\", train_embed=False):\n",
        "    super(MLP, self).__init__()\n",
        "\n",
        "    # Configure embeddings layer\n",
        "    # Make the embedding learnable if train_embed=True\n",
        "    if train_embed:\n",
        "      self.embeddings = nn.Embedding.from_pretrained(embeddings, freeze=False)\n",
        "    else:\n",
        "      self.embeddings = nn.Embedding.from_pretrained(embeddings, freeze=True)\n",
        "    \n",
        "    # Set the pooling type. Can be either \"mean\", \"max\", \"min\"\n",
        "    self.pool_type= pool_type\n",
        "\n",
        "    # Configure MLP\n",
        "    self.hidden = nn.ModuleList()\n",
        "    for input_size, output_size in zip(Layers, Layers[1:]):\n",
        "      self.hidden.append(nn.Linear(input_size, output_size))\n",
        "    \n",
        "  # Prediction\n",
        "  def forward(self, inputs):\n",
        "\n",
        "    # Compute the embeddings for sentence\n",
        "    embeds = self.embeddings(inputs)\n",
        "\n",
        "    # Perform mean/max/min pooling on embeddings to create a 300-d representation\n",
        "    if self.pool_type == \"mean\":\n",
        "      activation = torch.mean(embeds, axis=1)\n",
        "    elif self.pool_type == \"max\":\n",
        "      activation, _ = torch.max(embeds, axis=1)\n",
        "    elif self.pool_type == \"min\":\n",
        "      activation, _ = torch.min(embeds, axis=1)\n",
        "    elif self.pool_type == \"mean-max\":\n",
        "      activation_mean = torch.mean(embeds, axis=1)\n",
        "      activation_max, _ = torch.max(embeds, axis=1)\n",
        "      activation = torch.cat((activation_mean, activation_max), 1)\n",
        "    elif self.pool_type == \"max-min\":\n",
        "      activation_max, _ = torch.max(embeds, axis=1)\n",
        "      activation_min, _ = torch.min(embeds, axis=1)\n",
        "      activation = torch.cat((activation_max, activation_min), 1)\n",
        "    elif self.pool_type == \"mean-min\":\n",
        "      activation_mean = torch.mean(embeds, axis=1)\n",
        "      activation_min, _ = torch.min(embeds, axis=1)\n",
        "      activation = torch.cat((activation_mean, activation_min), 1)\n",
        "    elif self.pool_type == \"all\":\n",
        "      activation_mean = torch.mean(embeds, axis=1)\n",
        "      activation_max, _ = torch.max(embeds, axis=1)\n",
        "      activation_min, _ = torch.min(embeds, axis=1)\n",
        "      activation = torch.cat((activation_mean, activation_max, activation_min), 1)\n",
        "    else:\n",
        "      raise Exception(\"Pool type can be either \\\"mean\\\" , \\\"max\\\" or \\\"min\\\".\")\n",
        "\n",
        "    # Pass through MLP\n",
        "    L = len(self.hidden)\n",
        "    for (l, linear_transform) in zip(range(L), self.hidden):\n",
        "      if l < L - 1:\n",
        "        activation = F.relu(linear_transform(activation))\n",
        "      else:\n",
        "        activation = linear_transform(activation)\n",
        "\n",
        "    return activation"
      ],
      "execution_count": 8,
      "outputs": []
    },
    {
      "cell_type": "markdown",
      "metadata": {
        "id": "Qhjbp2RkvWjW"
      },
      "source": [
        "**Setup the training function**"
      ]
    },
    {
      "cell_type": "code",
      "metadata": {
        "id": "BPwmiTw7Vaie"
      },
      "source": [
        "# Accuracy function\n",
        "def calc_acc(model, dataset, device=device):\n",
        "  x = dataset.x.to(device)\n",
        "  y = dataset.y\n",
        "  with torch.no_grad():\n",
        "    yhat = model(x)\n",
        "  _, yhat = torch.max(yhat.to('cpu'), 1)\n",
        "  acc = (yhat == y).float()\n",
        "  del yhat\n",
        "  torch.cuda.empty_cache()\n",
        "  return torch.mean(acc).item()\n",
        "\n",
        "def calc_loss(model, criterion, dataset, device=device):\n",
        "  x = dataset.x.to(device)\n",
        "  y = dataset.y\n",
        "  with torch.no_grad():\n",
        "    yhat = model(x)\n",
        "  loss = criterion(yhat.to('cpu'), y)\n",
        "  del yhat\n",
        "  torch.cuda.empty_cache()\n",
        "  return loss.item()"
      ],
      "execution_count": 9,
      "outputs": []
    },
    {
      "cell_type": "code",
      "metadata": {
        "id": "U4kdOvKKKAUe"
      },
      "source": [
        "def process_batch(data_loader, model, optimizer, criterion, device=device):\n",
        "\n",
        "  for input, output in data_loader:\n",
        "\n",
        "    x, y = input.to(device), output.to(device)\n",
        "\n",
        "    # Zero the gradients\n",
        "    optimizer.zero_grad()\n",
        "\n",
        "    # Run model on train x value\n",
        "    yhat = model(x)\n",
        "\n",
        "    # Compute loss\n",
        "    loss = criterion(yhat, y)\n",
        "\n",
        "    # Backpropagation\n",
        "    loss.backward()\n",
        "\n",
        "    # Perform weights update\n",
        "    optimizer.step()\n",
        "\n",
        "    del loss, x, y, yhat\n",
        "    torch.cuda.empty_cache()"
      ],
      "execution_count": 10,
      "outputs": []
    },
    {
      "cell_type": "code",
      "metadata": {
        "id": "thV0VaWA3c2n"
      },
      "source": [
        "# Define the function for training the model\n",
        "def train(model, criterion, datasets, dataloaders, optimizer, epochs=100, verbose=1, device=device):\n",
        "\n",
        "  # Convert to gpu model\n",
        "  model = model.to(device)\n",
        "\n",
        "  # Extract datasets and dataloaders\n",
        "  train_data, val_data = datasets\n",
        "  train_dataloader, val_dataloader = dataloaders\n",
        "\n",
        "  # This will store the train_losses over each epoch\n",
        "  train_losses_per_epoch = []\n",
        "  val_losses_per_epoch = []\n",
        "  train_acc_per_epoch = []\n",
        "  val_acc_per_epoch = []\n",
        "\n",
        "  for epoch in range(epochs):\n",
        "\n",
        "    if verbose:\n",
        "      print(\">> Epoch {}\".format(epoch+1))\n",
        "    \n",
        "    # Train on training set. Because we are updating the weights when training on every batch, averaging the\n",
        "    # loss over batches isn't representative of the true performance. So we first train and learn the weights\n",
        "    # and then we rerun over the batch again with those weights and average to find the true performance\n",
        "    # Learn the weights\n",
        "    process_batch(train_loader, model, optimizer, criterion)\n",
        "\n",
        "    # Calculate train loss and accuracy on the entire training set\n",
        "    train_loss = calc_loss(model, criterion, train_data)\n",
        "    train_acc = calc_acc(model, train_data)\n",
        "\n",
        "    # Evaluate on validation set\n",
        "    val_loss = calc_loss(model, criterion, val_data)\n",
        "    val_acc = calc_acc(model, val_data)\n",
        "\n",
        "    if verbose:\n",
        "      print(\">>>> Train Loss = {}\".format(train_loss))\n",
        "      print(\">>>> Validation Loss = {}\".format(val_loss))\n",
        "      print(\">>>> Train Accuracy = {}\".format(train_acc))\n",
        "      print(\">>>> Validation Accuracy = {}\".format(train_acc))\n",
        "\n",
        "    # Record the loss per epoch\n",
        "    train_losses_per_epoch.append(train_loss)\n",
        "    val_losses_per_epoch.append(val_loss)\n",
        "    train_acc_per_epoch.append(train_acc)\n",
        "    val_acc_per_epoch.append(val_acc)\n",
        "\n",
        "  #model = model.to('cpu')\n",
        "  del model\n",
        "  torch.cuda.empty_cache()\n",
        "\n",
        "  return train_losses_per_epoch, val_losses_per_epoch, train_acc_per_epoch, val_acc_per_epoch"
      ],
      "execution_count": 11,
      "outputs": []
    },
    {
      "cell_type": "markdown",
      "metadata": {
        "id": "N-6I9QRBtH03"
      },
      "source": [
        "**Train a baseline model - Multi-class logistic regression model**"
      ]
    },
    {
      "cell_type": "code",
      "metadata": {
        "colab": {
          "base_uri": "https://localhost:8080/",
          "height": 486
        },
        "id": "NrPiQ1AdYKtk",
        "outputId": "3c87e8fe-7feb-4fde-90b2-a6e87a7fc8bc"
      },
      "source": [
        "# Train sample model\n",
        "Layers = [300, 5]\n",
        "model = MLP(Layers, weights,\"mean\", True)\n",
        "\n",
        "learning_rate = 1.0\n",
        "optimizer = torch.optim.Adam(model.parameters())\n",
        "# optimizer = torch.optim.SGD(model.parameters(), lr=learning_rate)\n",
        "\n",
        "train_loader = DataLoader(dataset=train_data, shuffle=True, batch_size=128)\n",
        "val_loader = DataLoader(dataset=val_data, batch_size=len(val_data))\n",
        "\n",
        "datasets = (train_data, val_data)\n",
        "dataloaders = (train_loader, val_loader)\n",
        "\n",
        "criterion = nn.CrossEntropyLoss()\n",
        "T_LOSS, V_LOSS, T_ACC, V_ACC = train(model, criterion, datasets, dataloaders, optimizer, epochs=100)"
      ],
      "execution_count": 18,
      "outputs": [
        {
          "output_type": "stream",
          "text": [
            ">> Epoch 1\n"
          ],
          "name": "stdout"
        },
        {
          "output_type": "error",
          "ename": "RuntimeError",
          "evalue": "ignored",
          "traceback": [
            "\u001b[0;31m---------------------------------------------------------------------------\u001b[0m",
            "\u001b[0;31mRuntimeError\u001b[0m                              Traceback (most recent call last)",
            "\u001b[0;32m<ipython-input-18-ee64de177914>\u001b[0m in \u001b[0;36m<module>\u001b[0;34m()\u001b[0m\n\u001b[1;32m     14\u001b[0m \u001b[0;34m\u001b[0m\u001b[0m\n\u001b[1;32m     15\u001b[0m \u001b[0mcriterion\u001b[0m \u001b[0;34m=\u001b[0m \u001b[0mnn\u001b[0m\u001b[0;34m.\u001b[0m\u001b[0mCrossEntropyLoss\u001b[0m\u001b[0;34m(\u001b[0m\u001b[0;34m)\u001b[0m\u001b[0;34m\u001b[0m\u001b[0;34m\u001b[0m\u001b[0m\n\u001b[0;32m---> 16\u001b[0;31m \u001b[0mT_LOSS\u001b[0m\u001b[0;34m,\u001b[0m \u001b[0mV_LOSS\u001b[0m\u001b[0;34m,\u001b[0m \u001b[0mT_ACC\u001b[0m\u001b[0;34m,\u001b[0m \u001b[0mV_ACC\u001b[0m \u001b[0;34m=\u001b[0m \u001b[0mtrain\u001b[0m\u001b[0;34m(\u001b[0m\u001b[0mmodel\u001b[0m\u001b[0;34m,\u001b[0m \u001b[0mcriterion\u001b[0m\u001b[0;34m,\u001b[0m \u001b[0mdatasets\u001b[0m\u001b[0;34m,\u001b[0m \u001b[0mdataloaders\u001b[0m\u001b[0;34m,\u001b[0m \u001b[0moptimizer\u001b[0m\u001b[0;34m,\u001b[0m \u001b[0mepochs\u001b[0m\u001b[0;34m=\u001b[0m\u001b[0;36m100\u001b[0m\u001b[0;34m)\u001b[0m\u001b[0;34m\u001b[0m\u001b[0;34m\u001b[0m\u001b[0m\n\u001b[0m",
            "\u001b[0;32m<ipython-input-11-ffc852bbed36>\u001b[0m in \u001b[0;36mtrain\u001b[0;34m(model, criterion, datasets, dataloaders, optimizer, epochs, verbose, device)\u001b[0m\n\u001b[1;32m     24\u001b[0m     \u001b[0;31m# and then we rerun over the batch again with those weights and average to find the true performance\u001b[0m\u001b[0;34m\u001b[0m\u001b[0;34m\u001b[0m\u001b[0;34m\u001b[0m\u001b[0m\n\u001b[1;32m     25\u001b[0m     \u001b[0;31m# Learn the weights\u001b[0m\u001b[0;34m\u001b[0m\u001b[0;34m\u001b[0m\u001b[0;34m\u001b[0m\u001b[0m\n\u001b[0;32m---> 26\u001b[0;31m     \u001b[0mprocess_batch\u001b[0m\u001b[0;34m(\u001b[0m\u001b[0mtrain_loader\u001b[0m\u001b[0;34m,\u001b[0m \u001b[0mmodel\u001b[0m\u001b[0;34m,\u001b[0m \u001b[0moptimizer\u001b[0m\u001b[0;34m,\u001b[0m \u001b[0mcriterion\u001b[0m\u001b[0;34m)\u001b[0m\u001b[0;34m\u001b[0m\u001b[0;34m\u001b[0m\u001b[0m\n\u001b[0m\u001b[1;32m     27\u001b[0m \u001b[0;34m\u001b[0m\u001b[0m\n\u001b[1;32m     28\u001b[0m     \u001b[0;31m# Calculate train loss and accuracy on the entire training set\u001b[0m\u001b[0;34m\u001b[0m\u001b[0;34m\u001b[0m\u001b[0;34m\u001b[0m\u001b[0m\n",
            "\u001b[0;32m<ipython-input-10-a3dc641b0726>\u001b[0m in \u001b[0;36mprocess_batch\u001b[0;34m(data_loader, model, optimizer, criterion, device)\u001b[0m\n\u001b[1;32m     18\u001b[0m \u001b[0;34m\u001b[0m\u001b[0m\n\u001b[1;32m     19\u001b[0m     \u001b[0;31m# Perform weights update\u001b[0m\u001b[0;34m\u001b[0m\u001b[0;34m\u001b[0m\u001b[0;34m\u001b[0m\u001b[0m\n\u001b[0;32m---> 20\u001b[0;31m     \u001b[0moptimizer\u001b[0m\u001b[0;34m.\u001b[0m\u001b[0mstep\u001b[0m\u001b[0;34m(\u001b[0m\u001b[0;34m)\u001b[0m\u001b[0;34m\u001b[0m\u001b[0;34m\u001b[0m\u001b[0m\n\u001b[0m\u001b[1;32m     21\u001b[0m \u001b[0;34m\u001b[0m\u001b[0m\n\u001b[1;32m     22\u001b[0m     \u001b[0;32mdel\u001b[0m \u001b[0mloss\u001b[0m\u001b[0;34m,\u001b[0m \u001b[0mx\u001b[0m\u001b[0;34m,\u001b[0m \u001b[0my\u001b[0m\u001b[0;34m,\u001b[0m \u001b[0myhat\u001b[0m\u001b[0;34m\u001b[0m\u001b[0;34m\u001b[0m\u001b[0m\n",
            "\u001b[0;32m/usr/local/lib/python3.6/dist-packages/torch/autograd/grad_mode.py\u001b[0m in \u001b[0;36mdecorate_context\u001b[0;34m(*args, **kwargs)\u001b[0m\n\u001b[1;32m     24\u001b[0m         \u001b[0;32mdef\u001b[0m \u001b[0mdecorate_context\u001b[0m\u001b[0;34m(\u001b[0m\u001b[0;34m*\u001b[0m\u001b[0margs\u001b[0m\u001b[0;34m,\u001b[0m \u001b[0;34m**\u001b[0m\u001b[0mkwargs\u001b[0m\u001b[0;34m)\u001b[0m\u001b[0;34m:\u001b[0m\u001b[0;34m\u001b[0m\u001b[0;34m\u001b[0m\u001b[0m\n\u001b[1;32m     25\u001b[0m             \u001b[0;32mwith\u001b[0m \u001b[0mself\u001b[0m\u001b[0;34m.\u001b[0m\u001b[0m__class__\u001b[0m\u001b[0;34m(\u001b[0m\u001b[0;34m)\u001b[0m\u001b[0;34m:\u001b[0m\u001b[0;34m\u001b[0m\u001b[0;34m\u001b[0m\u001b[0m\n\u001b[0;32m---> 26\u001b[0;31m                 \u001b[0;32mreturn\u001b[0m \u001b[0mfunc\u001b[0m\u001b[0;34m(\u001b[0m\u001b[0;34m*\u001b[0m\u001b[0margs\u001b[0m\u001b[0;34m,\u001b[0m \u001b[0;34m**\u001b[0m\u001b[0mkwargs\u001b[0m\u001b[0;34m)\u001b[0m\u001b[0;34m\u001b[0m\u001b[0;34m\u001b[0m\u001b[0m\n\u001b[0m\u001b[1;32m     27\u001b[0m         \u001b[0;32mreturn\u001b[0m \u001b[0mcast\u001b[0m\u001b[0;34m(\u001b[0m\u001b[0mF\u001b[0m\u001b[0;34m,\u001b[0m \u001b[0mdecorate_context\u001b[0m\u001b[0;34m)\u001b[0m\u001b[0;34m\u001b[0m\u001b[0;34m\u001b[0m\u001b[0m\n\u001b[1;32m     28\u001b[0m \u001b[0;34m\u001b[0m\u001b[0m\n",
            "\u001b[0;32m/usr/local/lib/python3.6/dist-packages/torch/optim/adam.py\u001b[0m in \u001b[0;36mstep\u001b[0;34m(self, closure)\u001b[0m\n\u001b[1;32m    117\u001b[0m                    \u001b[0mgroup\u001b[0m\u001b[0;34m[\u001b[0m\u001b[0;34m'lr'\u001b[0m\u001b[0;34m]\u001b[0m\u001b[0;34m,\u001b[0m\u001b[0;34m\u001b[0m\u001b[0;34m\u001b[0m\u001b[0m\n\u001b[1;32m    118\u001b[0m                    \u001b[0mgroup\u001b[0m\u001b[0;34m[\u001b[0m\u001b[0;34m'weight_decay'\u001b[0m\u001b[0;34m]\u001b[0m\u001b[0;34m,\u001b[0m\u001b[0;34m\u001b[0m\u001b[0;34m\u001b[0m\u001b[0m\n\u001b[0;32m--> 119\u001b[0;31m                    \u001b[0mgroup\u001b[0m\u001b[0;34m[\u001b[0m\u001b[0;34m'eps'\u001b[0m\u001b[0;34m]\u001b[0m\u001b[0;34m\u001b[0m\u001b[0;34m\u001b[0m\u001b[0m\n\u001b[0m\u001b[1;32m    120\u001b[0m                    )\n\u001b[1;32m    121\u001b[0m         \u001b[0;32mreturn\u001b[0m \u001b[0mloss\u001b[0m\u001b[0;34m\u001b[0m\u001b[0;34m\u001b[0m\u001b[0m\n",
            "\u001b[0;32m/usr/local/lib/python3.6/dist-packages/torch/optim/functional.py\u001b[0m in \u001b[0;36madam\u001b[0;34m(params, grads, exp_avgs, exp_avg_sqs, max_exp_avg_sqs, state_steps, amsgrad, beta1, beta2, lr, weight_decay, eps)\u001b[0m\n\u001b[1;32m     92\u001b[0m             \u001b[0mdenom\u001b[0m \u001b[0;34m=\u001b[0m \u001b[0;34m(\u001b[0m\u001b[0mmax_exp_avg_sq\u001b[0m\u001b[0;34m.\u001b[0m\u001b[0msqrt\u001b[0m\u001b[0;34m(\u001b[0m\u001b[0;34m)\u001b[0m \u001b[0;34m/\u001b[0m \u001b[0mmath\u001b[0m\u001b[0;34m.\u001b[0m\u001b[0msqrt\u001b[0m\u001b[0;34m(\u001b[0m\u001b[0mbias_correction2\u001b[0m\u001b[0;34m)\u001b[0m\u001b[0;34m)\u001b[0m\u001b[0;34m.\u001b[0m\u001b[0madd_\u001b[0m\u001b[0;34m(\u001b[0m\u001b[0meps\u001b[0m\u001b[0;34m)\u001b[0m\u001b[0;34m\u001b[0m\u001b[0;34m\u001b[0m\u001b[0m\n\u001b[1;32m     93\u001b[0m         \u001b[0;32melse\u001b[0m\u001b[0;34m:\u001b[0m\u001b[0;34m\u001b[0m\u001b[0;34m\u001b[0m\u001b[0m\n\u001b[0;32m---> 94\u001b[0;31m             \u001b[0mdenom\u001b[0m \u001b[0;34m=\u001b[0m \u001b[0;34m(\u001b[0m\u001b[0mexp_avg_sq\u001b[0m\u001b[0;34m.\u001b[0m\u001b[0msqrt\u001b[0m\u001b[0;34m(\u001b[0m\u001b[0;34m)\u001b[0m \u001b[0;34m/\u001b[0m \u001b[0mmath\u001b[0m\u001b[0;34m.\u001b[0m\u001b[0msqrt\u001b[0m\u001b[0;34m(\u001b[0m\u001b[0mbias_correction2\u001b[0m\u001b[0;34m)\u001b[0m\u001b[0;34m)\u001b[0m\u001b[0;34m.\u001b[0m\u001b[0madd_\u001b[0m\u001b[0;34m(\u001b[0m\u001b[0meps\u001b[0m\u001b[0;34m)\u001b[0m\u001b[0;34m\u001b[0m\u001b[0;34m\u001b[0m\u001b[0m\n\u001b[0m\u001b[1;32m     95\u001b[0m \u001b[0;34m\u001b[0m\u001b[0m\n\u001b[1;32m     96\u001b[0m         \u001b[0mstep_size\u001b[0m \u001b[0;34m=\u001b[0m \u001b[0mlr\u001b[0m \u001b[0;34m/\u001b[0m \u001b[0mbias_correction1\u001b[0m\u001b[0;34m\u001b[0m\u001b[0;34m\u001b[0m\u001b[0m\n",
            "\u001b[0;31mRuntimeError\u001b[0m: CUDA out of memory. Tried to allocate 3.35 GiB (GPU 0; 14.73 GiB total capacity; 13.41 GiB already allocated; 389.88 MiB free; 13.42 GiB reserved in total by PyTorch)"
          ]
        }
      ]
    },
    {
      "cell_type": "code",
      "metadata": {
        "colab": {
          "base_uri": "https://localhost:8080/",
          "height": 376
        },
        "id": "xrFDABm5tpT9",
        "outputId": "ac2994e3-6e07-4ad1-92f8-46eb3e258ae0"
      },
      "source": [
        "# Plot results\n",
        "plt.figure(figsize=(12, 6))\n",
        "\n",
        "epochs = np.arange(100)\n",
        "\n",
        "plt.subplot(1, 2, 1)\n",
        "\n",
        "plt.plot(epochs, T_LOSS, linestyle='--')\n",
        "plt.plot(epochs, V_LOSS, linestyle='--')\n",
        "plt.legend([\"Train\", \"Validation\"])\n",
        "\n",
        "plt.subplot(1, 2, 2)\n",
        "plt.plot(epochs, T_ACC, linestyle='--')\n",
        "plt.plot(epochs, V_ACC, linestyle='--')\n",
        "\n",
        "plt.legend([\"Train\", \"Validation\"])\n",
        "plt.show()"
      ],
      "execution_count": 14,
      "outputs": [
        {
          "output_type": "display_data",
          "data": {
            "image/png": "[encoded data removed]",
            "text/plain": [
              "<Figure size 864x432 with 2 Axes>"
            ]
          },
          "metadata": {
            "tags": [],
            "needs_background": "light"
          }
        }
      ]
    },
    {
      "cell_type": "markdown",
      "metadata": {
        "id": "AtLa5rZRwYD3"
      },
      "source": [
        "2. Explore model variants with different pooling operations, keeping the word embeddings fixed during training or updating them, different depths and layer sizes for the multi-layerperceptron, etc. to find what works well on the validation set and describe the process through which you arrive at your final model."
      ]
    },
    {
      "cell_type": "markdown",
      "metadata": {
        "id": "yCILiqrUsyX-"
      },
      "source": [
        "**Choose Hyperparameters**"
      ]
    },
    {
      "cell_type": "code",
      "metadata": {
        "id": "G4bxGIi9znrM"
      },
      "source": [
        "# Set model and training hyperparams\n",
        "\n",
        "# Variable\n",
        "maxDepth = 3\n",
        "widths = [32, 64, 128]\n",
        "pool_operations = [\"mean\", \"max\", \"min\", \"mean-max\", \"max-min\", \"mean-min\", \"all\"]\n",
        "train_embed = [False, True]\n",
        "\n",
        "# Fixed\n",
        "batch_size = 128\n",
        "learning_rate = 0.1\n",
        "criterion = nn.CrossEntropyLoss()\n",
        "optimizer = \"SGD\"\n",
        "epochs = 1000"
      ],
      "execution_count": 22,
      "outputs": []
    },
    {
      "cell_type": "code",
      "metadata": {
        "id": "lrvOinGvAVHI"
      },
      "source": [
        "# Create Dataloaders\n",
        "train_loader = DataLoader(dataset=train_data, shuffle=True, batch_size=batch_size)\n",
        "val_loader = DataLoader(dataset=val_data, shuffle=True, batch_size=len(val_data))\n",
        "\n",
        "datasets = (train_data, val_data)\n",
        "dataloaders = (train_loader, val_loader)"
      ],
      "execution_count": 16,
      "outputs": []
    },
    {
      "cell_type": "markdown",
      "metadata": {
        "id": "FxtSgXFftCUr"
      },
      "source": [
        "**Generate all model configurations using hyperparameters**"
      ]
    },
    {
      "cell_type": "code",
      "metadata": {
        "id": "h-JMGEeO30hN"
      },
      "source": [
        "# Create every possible configuration of the model\n",
        "def create_models(maxdepth, widths, pools, trainembds):\n",
        "\n",
        "  models = dict()\n",
        "  i = 1\n",
        "\n",
        "  for t in trainembds:\n",
        "    for p in pools:\n",
        "      if p == \"mean\" or p == \"max\" or p == \"min\":\n",
        "        input_layer = 300\n",
        "      elif p == \"mean-max\" or p == \"max-min\" or p == \"mean-min\":\n",
        "        input_layer = 600\n",
        "      elif p == \"all\":\n",
        "        input_layer = 900\n",
        "      for d in range(maxdepth+1):\n",
        "        if d == 0:\n",
        "          Layer = [input_layer, 5]\n",
        "          models[\"Model {}\".format(i)] = {\"Layers\": Layer, \"pool\": p, \"train_embed\": t}\n",
        "          i += 1\n",
        "        else:\n",
        "          for w in widths:\n",
        "            # CONFIGURE MLP LAYERS\n",
        "            Layer = [w] * d\n",
        "            Layer.insert(0, input_layer)\n",
        "            Layer.insert(4, 5)\n",
        "\n",
        "            # CREATE A CONFIG\n",
        "            models[\"Model {}\".format(i)] = {\"Layers\": Layer, \"pool\": p, \"train_embed\": t}\n",
        "            i += 1\n",
        "\n",
        "  return models"
      ],
      "execution_count": 17,
      "outputs": []
    },
    {
      "cell_type": "code",
      "metadata": {
        "id": "u-74z0tdhwE8"
      },
      "source": [
        "def create_history(maxdepth, widths, pools, trainembds, filename):\n",
        "  \n",
        "  models = create_models(maxdepth, widths, pools, trainembds)\n",
        "\n",
        "  print(\"Number of Configurations to Train = {}\".format(len(models)))\n",
        "\n",
        "  # Create train results dictionary\n",
        "  train_results = dict()\n",
        "\n",
        "  for model in models:\n",
        "\n",
        "    # Load model config\n",
        "    model_config = models[model]\n",
        "\n",
        "    # Setup filename convention\n",
        "    layers = model_config[\"Layers\"]\n",
        "    pool = model_config[\"pool\"]\n",
        "    train_embed = model_config[\"train_embed\"]\n",
        "\n",
        "    # Create key in dict\n",
        "    train_results[model] = {\"config\": {\"Layers\":layers, \"Pool\":pool, \"Train Embed\":train_embed}, \n",
        "                            \"results\": {\"Train Loss\":[], \"Validation Loss\":[], \"Train Accuracy\":[], \"Validation Accuracy\":[]}, \n",
        "                            \"done\":False}\n",
        "\n",
        "  # Write the experiment dictionary to a json file\n",
        "  with open(filename, 'w', encoding='utf-8') as f:\n",
        "    json.dump(train_results, f, ensure_ascii=False, indent=4)"
      ],
      "execution_count": 18,
      "outputs": []
    },
    {
      "cell_type": "markdown",
      "metadata": {
        "id": "JsBxk9yStKEb"
      },
      "source": [
        "**Train every configuration**"
      ]
    },
    {
      "cell_type": "code",
      "metadata": {
        "id": "b0H7hM9t9X2j",
        "colab": {
          "base_uri": "https://localhost:8080/",
          "height": 1000
        },
        "outputId": "11e265d2-5c30-434d-c8fb-cfb58260b42b"
      },
      "source": [
        "# results_file = \"results/train_results_BS{}_OPTIM{}_E{}.json\".format(batch_size, optimizer, epochs)\n",
        "results_file = \"results/train_results_sample_2.json\"\n",
        "\n",
        "if not os.path.exists(results_file):\n",
        "  # Create training history file\n",
        "  create_history(maxDepth, widths, pool_operations, train_embed, results_file)\n",
        "\n",
        "# Load the experiment data file\n",
        "with open(results_file, 'r', encoding='utf-8') as f:\n",
        "  train_results = json.load(f)\n",
        "\n",
        "# Train all configurations\n",
        "for i, model in enumerate(train_results):\n",
        "\n",
        "  print(\">> Training {}\".format(model))\n",
        "\n",
        "  # Load model configuration\n",
        "  model_config = train_results[model][\"config\"]\n",
        "  layers = model_config[\"Layers\"]\n",
        "  pool = model_config[\"Pool\"]\n",
        "  train_embd = model_config[\"Train Embed\"]\n",
        "\n",
        "  # Only train the model if it hasn't been trained before\n",
        "  if not train_results[model][\"done\"]:\n",
        "\n",
        "    # SETUP MODEL\n",
        "    mlp = MLP(Layers=layers,\n",
        "              embeddings=weights,\n",
        "              pool_type=pool,\n",
        "              train_embed=train_embd)\n",
        "\n",
        "    # SET OPTIMIZER\n",
        "    optim = torch.optim.Adam(mlp.parameters()) if optimizer == \"Adam\" else torch.optim.SGD(mlp.parameters(), lr=learning_rate)\n",
        "\n",
        "    # BEGIN TRAINING\n",
        "    train_losses, val_losses, train_accs, val_accs = train(mlp, criterion, datasets, dataloaders, optim, epochs=epochs, verbose=0)\n",
        "\n",
        "    # Update dictionary\n",
        "    train_results[model][\"results\"][\"Train Loss\"] = train_losses\n",
        "    train_results[model][\"results\"][\"Validation Loss\"] = val_losses\n",
        "    train_results[model][\"results\"][\"Train Accuracy\"] = train_accs\n",
        "    train_results[model][\"results\"][\"Validation Accuracy\"] = val_accs\n",
        "\n",
        "    # Log that the model has been trained\n",
        "    train_results[model][\"done\"] = True\n",
        "\n",
        "  # We update the .json dictionary every 18 configurations\n",
        "  if (i+1)%7 == 0:\n",
        "    print(\"Saving Results...\")\n",
        "    with open(results_file, 'w', encoding='utf-8') as f:\n",
        "      json.dump(train_results, f, ensure_ascii=False, indent=4)"
      ],
      "execution_count": 23,
      "outputs": [
        {
          "output_type": "stream",
          "text": [
            ">> Training Model 1\n",
            ">> Training Model 2\n",
            ">> Training Model 3\n",
            ">> Training Model 4\n",
            ">> Training Model 5\n",
            ">> Training Model 6\n",
            ">> Training Model 7\n",
            "Saving Results...\n",
            ">> Training Model 8\n",
            ">> Training Model 9\n",
            ">> Training Model 10\n",
            ">> Training Model 11\n",
            ">> Training Model 12\n",
            ">> Training Model 13\n",
            ">> Training Model 14\n",
            "Saving Results...\n",
            ">> Training Model 15\n",
            ">> Training Model 16\n",
            ">> Training Model 17\n",
            ">> Training Model 18\n",
            ">> Training Model 19\n",
            ">> Training Model 20\n",
            ">> Training Model 21\n",
            "Saving Results...\n",
            ">> Training Model 22\n",
            ">> Training Model 23\n",
            ">> Training Model 24\n",
            ">> Training Model 25\n",
            ">> Training Model 26\n",
            ">> Training Model 27\n",
            ">> Training Model 28\n",
            "Saving Results...\n",
            ">> Training Model 29\n",
            ">> Training Model 30\n",
            ">> Training Model 31\n",
            ">> Training Model 32\n",
            ">> Training Model 33\n",
            ">> Training Model 34\n",
            ">> Training Model 35\n",
            "Saving Results...\n",
            ">> Training Model 36\n",
            ">> Training Model 37\n",
            ">> Training Model 38\n",
            ">> Training Model 39\n",
            ">> Training Model 40\n",
            ">> Training Model 41\n",
            ">> Training Model 42\n",
            "Saving Results...\n",
            ">> Training Model 43\n",
            ">> Training Model 44\n",
            ">> Training Model 45\n",
            ">> Training Model 46\n",
            ">> Training Model 47\n",
            ">> Training Model 48\n",
            ">> Training Model 49\n",
            "Saving Results...\n",
            ">> Training Model 50\n",
            ">> Training Model 51\n",
            ">> Training Model 52\n",
            ">> Training Model 53\n",
            ">> Training Model 54\n",
            ">> Training Model 55\n",
            ">> Training Model 56\n",
            "Saving Results...\n",
            ">> Training Model 57\n",
            ">> Training Model 58\n",
            ">> Training Model 59\n",
            ">> Training Model 60\n",
            ">> Training Model 61\n",
            ">> Training Model 62\n",
            ">> Training Model 63\n",
            "Saving Results...\n",
            ">> Training Model 64\n",
            ">> Training Model 65\n",
            ">> Training Model 66\n",
            ">> Training Model 67\n",
            ">> Training Model 68\n",
            ">> Training Model 69\n",
            ">> Training Model 70\n",
            "Saving Results...\n",
            ">> Training Model 71\n"
          ],
          "name": "stdout"
        },
        {
          "output_type": "error",
          "ename": "KeyboardInterrupt",
          "evalue": "ignored",
          "traceback": [
            "\u001b[0;31m---------------------------------------------------------------------------\u001b[0m",
            "\u001b[0;31mKeyboardInterrupt\u001b[0m                         Traceback (most recent call last)",
            "\u001b[0;32m<ipython-input-23-2d7f470895f8>\u001b[0m in \u001b[0;36m<module>\u001b[0;34m()\u001b[0m\n\u001b[1;32m     34\u001b[0m \u001b[0;34m\u001b[0m\u001b[0m\n\u001b[1;32m     35\u001b[0m     \u001b[0;31m# BEGIN TRAINING\u001b[0m\u001b[0;34m\u001b[0m\u001b[0;34m\u001b[0m\u001b[0;34m\u001b[0m\u001b[0m\n\u001b[0;32m---> 36\u001b[0;31m     \u001b[0mtrain_losses\u001b[0m\u001b[0;34m,\u001b[0m \u001b[0mval_losses\u001b[0m\u001b[0;34m,\u001b[0m \u001b[0mtrain_accs\u001b[0m\u001b[0;34m,\u001b[0m \u001b[0mval_accs\u001b[0m \u001b[0;34m=\u001b[0m \u001b[0mtrain\u001b[0m\u001b[0;34m(\u001b[0m\u001b[0mmlp\u001b[0m\u001b[0;34m,\u001b[0m \u001b[0mcriterion\u001b[0m\u001b[0;34m,\u001b[0m \u001b[0mdatasets\u001b[0m\u001b[0;34m,\u001b[0m \u001b[0mdataloaders\u001b[0m\u001b[0;34m,\u001b[0m \u001b[0moptim\u001b[0m\u001b[0;34m,\u001b[0m \u001b[0mepochs\u001b[0m\u001b[0;34m=\u001b[0m\u001b[0mepochs\u001b[0m\u001b[0;34m,\u001b[0m \u001b[0mverbose\u001b[0m\u001b[0;34m=\u001b[0m\u001b[0;36m0\u001b[0m\u001b[0;34m)\u001b[0m\u001b[0;34m\u001b[0m\u001b[0;34m\u001b[0m\u001b[0m\n\u001b[0m\u001b[1;32m     37\u001b[0m \u001b[0;34m\u001b[0m\u001b[0m\n\u001b[1;32m     38\u001b[0m     \u001b[0;31m# Update dictionary\u001b[0m\u001b[0;34m\u001b[0m\u001b[0;34m\u001b[0m\u001b[0;34m\u001b[0m\u001b[0m\n",
            "\u001b[0;32m<ipython-input-12-ffc852bbed36>\u001b[0m in \u001b[0;36mtrain\u001b[0;34m(model, criterion, datasets, dataloaders, optimizer, epochs, verbose, device)\u001b[0m\n\u001b[1;32m     24\u001b[0m     \u001b[0;31m# and then we rerun over the batch again with those weights and average to find the true performance\u001b[0m\u001b[0;34m\u001b[0m\u001b[0;34m\u001b[0m\u001b[0;34m\u001b[0m\u001b[0m\n\u001b[1;32m     25\u001b[0m     \u001b[0;31m# Learn the weights\u001b[0m\u001b[0;34m\u001b[0m\u001b[0;34m\u001b[0m\u001b[0;34m\u001b[0m\u001b[0m\n\u001b[0;32m---> 26\u001b[0;31m     \u001b[0mprocess_batch\u001b[0m\u001b[0;34m(\u001b[0m\u001b[0mtrain_loader\u001b[0m\u001b[0;34m,\u001b[0m \u001b[0mmodel\u001b[0m\u001b[0;34m,\u001b[0m \u001b[0moptimizer\u001b[0m\u001b[0;34m,\u001b[0m \u001b[0mcriterion\u001b[0m\u001b[0;34m)\u001b[0m\u001b[0;34m\u001b[0m\u001b[0;34m\u001b[0m\u001b[0m\n\u001b[0m\u001b[1;32m     27\u001b[0m \u001b[0;34m\u001b[0m\u001b[0m\n\u001b[1;32m     28\u001b[0m     \u001b[0;31m# Calculate train loss and accuracy on the entire training set\u001b[0m\u001b[0;34m\u001b[0m\u001b[0;34m\u001b[0m\u001b[0;34m\u001b[0m\u001b[0m\n",
            "\u001b[0;32m<ipython-input-11-a3dc641b0726>\u001b[0m in \u001b[0;36mprocess_batch\u001b[0;34m(data_loader, model, optimizer, criterion, device)\u001b[0m\n\u001b[1;32m     21\u001b[0m \u001b[0;34m\u001b[0m\u001b[0m\n\u001b[1;32m     22\u001b[0m     \u001b[0;32mdel\u001b[0m \u001b[0mloss\u001b[0m\u001b[0;34m,\u001b[0m \u001b[0mx\u001b[0m\u001b[0;34m,\u001b[0m \u001b[0my\u001b[0m\u001b[0;34m,\u001b[0m \u001b[0myhat\u001b[0m\u001b[0;34m\u001b[0m\u001b[0;34m\u001b[0m\u001b[0m\n\u001b[0;32m---> 23\u001b[0;31m     \u001b[0mtorch\u001b[0m\u001b[0;34m.\u001b[0m\u001b[0mcuda\u001b[0m\u001b[0;34m.\u001b[0m\u001b[0mempty_cache\u001b[0m\u001b[0;34m(\u001b[0m\u001b[0;34m)\u001b[0m\u001b[0;34m\u001b[0m\u001b[0;34m\u001b[0m\u001b[0m\n\u001b[0m",
            "\u001b[0;32m/usr/local/lib/python3.6/dist-packages/torch/cuda/memory.py\u001b[0m in \u001b[0;36mempty_cache\u001b[0;34m()\u001b[0m\n\u001b[1;32m     85\u001b[0m     \"\"\"\n\u001b[1;32m     86\u001b[0m     \u001b[0;32mif\u001b[0m \u001b[0mis_initialized\u001b[0m\u001b[0;34m(\u001b[0m\u001b[0;34m)\u001b[0m\u001b[0;34m:\u001b[0m\u001b[0;34m\u001b[0m\u001b[0;34m\u001b[0m\u001b[0m\n\u001b[0;32m---> 87\u001b[0;31m         \u001b[0mtorch\u001b[0m\u001b[0;34m.\u001b[0m\u001b[0m_C\u001b[0m\u001b[0;34m.\u001b[0m\u001b[0m_cuda_emptyCache\u001b[0m\u001b[0;34m(\u001b[0m\u001b[0;34m)\u001b[0m\u001b[0;34m\u001b[0m\u001b[0;34m\u001b[0m\u001b[0m\n\u001b[0m\u001b[1;32m     88\u001b[0m \u001b[0;34m\u001b[0m\u001b[0m\n\u001b[1;32m     89\u001b[0m \u001b[0;34m\u001b[0m\u001b[0m\n",
            "\u001b[0;31mKeyboardInterrupt\u001b[0m: "
          ]
        }
      ]
    },
    {
      "cell_type": "markdown",
      "metadata": {
        "id": "27OXJJYGwbP6"
      },
      "source": [
        "3. Train your final model to convergence on the training set using an optimisation algorithm of your choice."
      ]
    },
    {
      "cell_type": "code",
      "metadata": {
        "id": "YXczJUIhwftY"
      },
      "source": [
        ""
      ],
      "execution_count": null,
      "outputs": []
    },
    {
      "cell_type": "markdown",
      "metadata": {
        "id": "2-V57tWowgbu"
      },
      "source": [
        "4. Provide a plot of the loss on the training set and validation set for each epoch of training."
      ]
    },
    {
      "cell_type": "code",
      "metadata": {
        "id": "mMd9y0bIwjK4"
      },
      "source": [
        ""
      ],
      "execution_count": null,
      "outputs": []
    },
    {
      "cell_type": "markdown",
      "metadata": {
        "id": "iMGFmwmMwjxk"
      },
      "source": [
        "5. Provide the final accuracy on the training, validation, and test set."
      ]
    },
    {
      "cell_type": "code",
      "metadata": {
        "id": "uLt7E2BuwmUB"
      },
      "source": [
        ""
      ],
      "execution_count": null,
      "outputs": []
    },
    {
      "cell_type": "markdown",
      "metadata": {
        "id": "unkDMoz4wnP0"
      },
      "source": [
        "6. Provide a selection of the classification decisions of the final model for 5 opinionated sentences from movies reviews that you find online – perhaps for a movie you liked, or did not like? Remember to provide a links to the reviews from which you selected the sentences."
      ]
    },
    {
      "cell_type": "code",
      "metadata": {
        "id": "Ohtr_tX0wqRh"
      },
      "source": [
        ""
      ],
      "execution_count": null,
      "outputs": []
    },
    {
      "cell_type": "markdown",
      "metadata": {
        "id": "FJ6Ex8hS_B7L"
      },
      "source": [
        "# Old Code"
      ]
    },
    {
      "cell_type": "code",
      "metadata": {
        "id": "3i0E4nQy9D9G"
      },
      "source": [
        "# from tqdm import tqdm\n",
        "\n",
        "# sentences = ssttrainxs[:5] #[\"My name is Sam\", \"I study in the UK\", \"I am twenty one years old\"]\n",
        "# for epoch in tqdm(range(3)):\n",
        "#   #print(\"Epoch {}\".format(epoch))\n",
        "#   for i in range(len(sentences)):\n",
        "#     print(\"Processing Sentence {}\".format(i+1))\n",
        "#     words = sentences[i]\n",
        "#     vectors = [w2v[word] for word in words if word in w2v]\n",
        "#     vectors = torch.as_tensor(vectors)\n",
        "#     print(\"Sentence {} shape: {}\".format(i+1, vectors.size()[0]))\n",
        "#     pool = torch.mean(vectors, 1)\n",
        "#     print(\"Shape after pooling : {}\".format(pool.size()))"
      ],
      "execution_count": null,
      "outputs": []
    },
    {
      "cell_type": "code",
      "metadata": {
        "id": "qkJUdMMhP43d"
      },
      "source": [
        "# Create Data Class\n",
        "class Data(Dataset):\n",
        "\n",
        "  # Constructor\n",
        "  def __init__(self, x_values, y_values, embedding, pool_type):\n",
        "\n",
        "    # Compute the sentence encoding by pooling over the set of embedding vectors for each sentence\n",
        "    self.x = self.compute_embedding(x_values, embedding, pool_type)\n",
        "\n",
        "    # Store the sentence sentiment classes as a tensor\n",
        "    self.y = torch.as_tensor(y_values)\n",
        "\n",
        "    # store number of sentences in the dataset\n",
        "    self.len = self.y.size()[0]\n",
        "    \n",
        "  # Getter\n",
        "  def __getitem__(self, index):\n",
        "    return self.x[index], self.y[index]\n",
        "\n",
        "  # Get Length\n",
        "  def __len__(self):\n",
        "    return self.len\n",
        "\n",
        "  # Compute embedding\n",
        "  def compute_embedding(self, x_values, embedding, pool_type):\n",
        "\n",
        "    sentences = torch.zeros(len(x_values), 300)\n",
        "\n",
        "    for (i, x) in enumerate(x_values):\n",
        "      # Create embedding vector using pretrained word2vec model\n",
        "      word_embeddings = []\n",
        "      for word in x:\n",
        "        if word in embedding:\n",
        "          word_embeddings.append(embedding[word])\n",
        "        else:\n",
        "          word_embeddings.append(embedding['UNK'])\n",
        "      word_embeddings = torch.as_tensor(word_embeddings)\n",
        "\n",
        "      # Perform pooling operation on all word embeddings to compute a final vector encoding for our sentence\n",
        "      if pool_type == 'mean':\n",
        "        sentence_pooled = torch.mean(word_embeddings, 0)\n",
        "      elif pool_type == 'max':\n",
        "        sentence_pooled = torch.max(word_embeddings, 0)\n",
        "      elif pool_type == 'min':\n",
        "        sentence_pooled = torch.min(word_embeddings, 0)\n",
        "    \n",
        "      sentences[i] = sentence_pooled\n",
        "\n",
        "    return sentences"
      ],
      "execution_count": null,
      "outputs": []
    }
  ]
}