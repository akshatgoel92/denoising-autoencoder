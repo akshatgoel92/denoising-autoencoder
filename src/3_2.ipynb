{
  "nbformat": 4,
  "nbformat_minor": 0,
  "metadata": {
    "kernelspec": {
      "display_name": "Python 3",
      "language": "python",
      "name": "python3"
    },
    "language_info": {
      "codemirror_mode": {
        "name": "ipython",
        "version": 3
      },
      "file_extension": ".py",
      "mimetype": "text/x-python",
      "name": "python",
      "nbconvert_exporter": "python",
      "pygments_lexer": "ipython3",
      "version": "3.8.0"
    },
    "colab": {
      "name": "3_2.ipynb",
      "provenance": [],
      "collapsed_sections": []
    },
    "accelerator": "GPU"
  },
  "cells": [
    {
      "cell_type": "code",
      "metadata": {
        "colab": {
          "base_uri": "https://localhost:8080/"
        },
        "id": "2WDdC5E0llYu",
        "outputId": "5bf6c770-5f60-492e-d19a-cac2e8d76428"
      },
      "source": [
        "# Mount Google Drive so we can access data\n",
        "from google.colab import drive\n",
        "drive.mount('/content/drive')"
      ],
      "execution_count": 41,
      "outputs": [
        {
          "output_type": "stream",
          "text": [
            "Drive already mounted at /content/drive; to attempt to forcibly remount, call drive.mount(\"/content/drive\", force_remount=True).\n"
          ],
          "name": "stdout"
        }
      ]
    },
    {
      "cell_type": "code",
      "metadata": {
        "colab": {
          "base_uri": "https://localhost:8080/"
        },
        "id": "-XQHea_TnP4S",
        "outputId": "d1f6d2ed-38f8-446a-871e-5608133910fb"
      },
      "source": [
        "# Install idx2numpy package for extracting data\n",
        "!pip install idx2numpy"
      ],
      "execution_count": 42,
      "outputs": [
        {
          "output_type": "stream",
          "text": [
            "Requirement already satisfied: idx2numpy in /usr/local/lib/python3.6/dist-packages (1.2.3)\n",
            "Requirement already satisfied: numpy in /usr/local/lib/python3.6/dist-packages (from idx2numpy) (1.18.5)\n",
            "Requirement already satisfied: six in /usr/local/lib/python3.6/dist-packages (from idx2numpy) (1.15.0)\n"
          ],
          "name": "stdout"
        }
      ]
    },
    {
      "cell_type": "code",
      "metadata": {
        "id": "-9CsmgA1jCg4"
      },
      "source": [
        "# Import packages\n",
        "import os\n",
        "import json\n",
        "import gzip\n",
        "import torch\n",
        "import torchvision\n",
        "import numpy as np \n",
        "import pandas as pd\n",
        "\n",
        "import idx2numpy\n",
        "import torch.nn as nn\n",
        "import torch.optim as optim\n",
        "import torch.nn.functional as F\n",
        "import torchvision.transforms.functional as transforms\n",
        "import matplotlib.pyplot as plt"
      ],
      "execution_count": 43,
      "outputs": []
    },
    {
      "cell_type": "code",
      "metadata": {
        "id": "RmfcKJJCjCg5"
      },
      "source": [
        "def load_one_dataset(path):\n",
        "    '''\n",
        "    Convenience function to load a single dataset\n",
        "    '''\n",
        "    f = gzip.open(path, 'rb')\n",
        "    data = torch.from_numpy(idx2numpy.convert_from_file(f))\n",
        "    f.close()\n",
        "    \n",
        "    return(data)\n",
        "\n",
        "\n",
        "def load_all_datasets(train_imgs, train_labs, test_imgs, test_labs, batch_size):\n",
        "    '''\n",
        "    Load training as well as test images here\n",
        "    '''\n",
        "    train_images = load_one_dataset(train_imgs).type(torch.float32)\n",
        "    train_labels = load_one_dataset(train_labs).type(torch.long)\n",
        "    train = list(zip(train_images, train_labels))\n",
        "\n",
        "    test_images = load_one_dataset(test_imgs).type(torch.float32)\n",
        "    test_labels = load_one_dataset(test_labs).type(torch.long)\n",
        "    test = list(zip(test_images, test_labels))\n",
        "    \n",
        "    train_loader = torch.utils.data.DataLoader(train, batch_size=batch_size, shuffle=True, num_workers=2)\n",
        "    test_loader = torch.utils.data.DataLoader(test, batch_size=batch_size, shuffle=False, num_workers=2)\n",
        "    \n",
        "    return(train_loader, test_loader)"
      ],
      "execution_count": 44,
      "outputs": []
    },
    {
      "cell_type": "code",
      "metadata": {
        "id": "FY9lnBvi8W8U"
      },
      "source": [
        "def add_noise(img, quadrants):\n",
        "  '''\n",
        "  Randomly remove 1 or 2 quadrants\n",
        "  from the input image.\n",
        "  '''\n",
        "  # Get the number of quadrants to erase\n",
        "  n_quads_to_erase = np.random.choice([1, 2])\n",
        "\n",
        "  # Get which quadrants to erase\n",
        "  quads_to_erase = np.random.choice([1, 2, 3, 4], size = n_quads_to_erase)\n",
        "\n",
        "  # Create a copy of the image\n",
        "  noisy_img = img.clone()\n",
        "\n",
        "  # Now erase the quadrants\n",
        "  for quad in quads_to_erase:\n",
        "    noisy_img = transforms.erase(noisy_img, *quadrants[quad])\n",
        "  \n",
        "  # Return statement\n",
        "  return(noisy_img)"
      ],
      "execution_count": 45,
      "outputs": []
    },
    {
      "cell_type": "code",
      "metadata": {
        "id": "NMPdTKZsp1Da"
      },
      "source": [
        "def plot_image(img):\n",
        "  '''\n",
        "  Take an image stored as a Torch\n",
        "  tensor and display it in the notebook\n",
        "  '''\n",
        "  # Display the img\n",
        "  plt.imshow(img.numpy(), cmap= 'gray')"
      ],
      "execution_count": 46,
      "outputs": []
    },
    {
      "cell_type": "code",
      "metadata": {
        "id": "WomUkeFVrI7-"
      },
      "source": [
        "def test_noise():\n",
        "  '''\n",
        "  Test the noise function\n",
        "  '''\n",
        "  # Just for testing out noise function\n",
        "  data_dir = '/content/drive/MyDrive/data'\n",
        "\n",
        "  # Set paths\n",
        "  paths = {\n",
        "        'train_imgs': os.path.join(data_dir, 'train-images-idx3-ubyte.gz'),\n",
        "        'train_labs': os.path.join(data_dir, 'train-labels-idx1-ubyte.gz'),\n",
        "        'test_imgs': os.path.join(data_dir,'t10k-images-idx3-ubyte.gz'),\n",
        "        'test_labs': os.path.join(data_dir,'t10k-labels-idx1-ubyte.gz')\n",
        "  }\n",
        "\n",
        "  # Load datasets\n",
        "  train_loader, test_loader = load_all_datasets(**paths, batch_size = 32)\n",
        "\n",
        "  # Get the next batch from the train loader\n",
        "  images, labels = iter(train_loader).next()\n",
        "\n",
        "  # Store the quadrant definitions: move this into training loop later\n",
        "  quadrants = {\n",
        "      \n",
        "      1: [0, 0, 14, 14, 255], \n",
        "      2: [0, 14, 14, 14, 255],\n",
        "      3: [14, 0, 14, 14, 255],\n",
        "      4: [14, 14, 14, 14, 255],\n",
        "  }\n",
        "\n",
        "  # Take the first image in the batch\n",
        "  img = images[0]\n",
        "\n",
        "  # Get noisy image\n",
        "  noisy_img = add_noise(img, quadrants)\n",
        "\n",
        "  # Return statement\n",
        "  return(img, noisy_img)"
      ],
      "execution_count": 47,
      "outputs": []
    },
    {
      "cell_type": "code",
      "metadata": {
        "id": "T6rjOJekfxx9"
      },
      "source": [
        "class DenoisingEncoder(nn.Module):\n",
        "  \n",
        "  def __init__(self):\n",
        "    \n",
        "    super(DenoisingEncoder,self).__init__()\n",
        "    \n",
        "    self.encoder=nn.Sequential(\n",
        "                  nn.Linear(28*28,256),\n",
        "                  nn.ReLU(True),\n",
        "                  nn.Linear(256,128),\n",
        "                  nn.ReLU(True),\n",
        "                  nn.Linear(128,64),\n",
        "                  nn.ReLU(True)\n",
        "        \n",
        "                  )\n",
        "    \n",
        "    self.decoder=nn.Sequential(\n",
        "                  nn.Linear(64,128),\n",
        "                  nn.ReLU(True),\n",
        "                  nn.Linear(128,256),\n",
        "                  nn.ReLU(True),\n",
        "                  nn.Linear(256,28*28),\n",
        "                  nn.Sigmoid(),\n",
        "                  )\n",
        "    \n",
        " \n",
        "  def forward(self,x):\n",
        "    \n",
        "    x = x.view(-1, 28*28)\n",
        "    x=self.encoder(x)\n",
        "    x=self.decoder(x)\n",
        "    \n",
        "    return x"
      ],
      "execution_count": 48,
      "outputs": []
    },
    {
      "cell_type": "code",
      "metadata": {
        "id": "NJqcKjOyq1xn"
      },
      "source": [
        "def train(epochs=10, batch_size=32, data_dir = '/content/drive/MyDrive/data'):\n",
        "    '''\n",
        "    This is the main training loop\n",
        "    '''\n",
        "    # Set device\n",
        "    if torch.cuda.is_available():\n",
        "      device = torch.device(\"cuda\")\n",
        "    else:\n",
        "      device = torch.device(\"cpu\")\n",
        "    \n",
        "    # Set paths to datasets\n",
        "    paths = {\n",
        "        'train_imgs': os.path.join(data_dir, 'train-images-idx3-ubyte.gz'),\n",
        "        'train_labs': os.path.join(data_dir, 'train-labels-idx1-ubyte.gz'),\n",
        "        'test_imgs': os.path.join(data_dir,'t10k-images-idx3-ubyte.gz'),\n",
        "        'test_labs': os.path.join(data_dir,'t10k-labels-idx1-ubyte.gz')\n",
        "    }\n",
        "\n",
        "    # Store the quadrant definitions: move this into training loop later\n",
        "    quadrants = {\n",
        "      \n",
        "      1: [0, 0, 14, 14, 255], \n",
        "      2: [0, 14, 14, 14, 255],\n",
        "      3: [14, 0, 14, 14, 255],\n",
        "      4: [14, 14, 14, 14, 255],\n",
        "    }\n",
        "\n",
        "    # Load datasets\n",
        "    train_loader, test_loader = load_all_datasets(**paths, batch_size = batch_size)\n",
        "    \n",
        "    # Set parameters\n",
        "    net = DenoisingEncoder()\n",
        "    \n",
        "    # Send net object to device memory\n",
        "    net.to(device)\n",
        "    \n",
        "    # We use the cross-entropy loss\n",
        "    criterion = nn.MSELoss()\n",
        "\n",
        "    # We use mini-batch stochastic gradient descent with momentum\n",
        "    optimizer = optim.SGD(net.parameters(), lr=0.01, momentum=0.09, \n",
        "                                            weight_decay=0)\n",
        "\n",
        "    # Store results here\n",
        "    results = {\n",
        "      'train_loss': [], \n",
        "      'val_loss': [], \n",
        "      }\n",
        "\n",
        "    # Loop over the dataset multiple times\n",
        "    for epoch in range(epochs):  \n",
        "        \n",
        "        # Initialize running loss\n",
        "        running_loss = 0.0\n",
        "        running_accuracy = 0.0\n",
        "\n",
        "        # Initialize the validation running loss\n",
        "        val_running_loss = 0.0\n",
        "        val_running_accuracy = 0.0\n",
        "        \n",
        "        # Iterate through data now\n",
        "        for i, data in enumerate(train_loader):\n",
        "            \n",
        "            # Get the inputs: data is a list of [inputs, labels]\n",
        "            clean_images, _ = data\n",
        "            \n",
        "            # Initialize container for noisy images\n",
        "            noisy_images = []\n",
        "            flat_clean_imgs = []\n",
        "\n",
        "            # Now get noisy images\n",
        "            for img in clean_images: \n",
        "              noisy_images.append(add_noise(img, quadrants))\n",
        "              flat_clean_imgs.append(img.view(-1, 28*28))\n",
        "            \n",
        "            # Convert noisy image list to Torch tensor\n",
        "            noisy_images = torch.stack(noisy_images, dim =0)\n",
        "            flat_clean_imgs = torch.stack(flat_clean_imgs, dim=0)\n",
        "\n",
        "            # Send the inputs and labels to the memory of the device\n",
        "            noisy_images, clean_images = noisy_images.to(device), clean_images.to(device)\n",
        "\n",
        "            # Zero the parameter gradients\n",
        "            optimizer.zero_grad()\n",
        "\n",
        "            # Forward\n",
        "            pred_images = net(noisy_images)\n",
        "            \n",
        "            # Calculate loss\n",
        "            loss = criterion(pred_images, flat_clean_imgs)\n",
        "\n",
        "            # Backward\n",
        "            loss.backward()\n",
        "            \n",
        "            # Optimize\n",
        "            optimizer.step()\n",
        "\n",
        "            # Add to running loss\n",
        "            running_loss += loss.item()\n",
        "        \n",
        "        # Loop through the validation data\n",
        "        for j, data in enumerate(test_loader):\n",
        "          \n",
        "          # No need to calculate gradients for validation set\n",
        "          with torch.no_grad():\n",
        "\n",
        "              # Get the inputs: data is a list of [inputs, labels]\n",
        "              clean_images, _ = data\n",
        "            \n",
        "              # Initialize container for noisy images\n",
        "              noisy_images = []\n",
        "              flat_clean_imgs = []\n",
        "\n",
        "              # Now get noisy images\n",
        "              # Flatten clean images for loss calculation\n",
        "              for img in clean_images: \n",
        "                noisy_images.append(add_noise(img, quadrants))\n",
        "                flat_clean_imgs.append(img.view(-1, 28*28))\n",
        "            \n",
        "              # Convert noisy image list to Torch tensor\n",
        "              noisy_images = torch.stack(noisy_images, dim=0)\n",
        "              flat_clean_imgs = torch.stack(flat_clean_imgs, dim=0)\n",
        "\n",
        "              # Send the inputs and labels to the memory of the device\n",
        "              noisy_images, clean_images = noisy_images.to(device), clean_images.to(device)\n",
        "\n",
        "              # Send the data item through the network to get output\n",
        "              val_pred_images = net(noisy_images)\n",
        "\n",
        "              # Compute the loss\n",
        "              val_loss = criterion(val_pred_images, flat_clean_imgs)\n",
        "\n",
        "              # Add to running loss\n",
        "              val_running_loss += val_loss.item()\n",
        "        \n",
        "        # Rescale the training and validation perfomance metrics\n",
        "        running_loss = running_loss/len(train_loader)\n",
        "        \n",
        "        # Rescale the validation loss\n",
        "        val_running_loss = val_running_loss/len(test_loader)\n",
        "        \n",
        "        # Append to the results tracker\n",
        "        results['train_loss'].append(np.float(running_loss))\n",
        "        results['val_loss'].append(np.float(val_running_loss))\n",
        "\n",
        "        # Make print message format string\n",
        "        msg = \"{}, Epoch:{}, Loss:{}\" \"\\n\"\n",
        "\n",
        "        # Print performance\n",
        "        print(msg.format(\"Training\", epoch, running_loss))\n",
        "        print(msg.format(\"Validation\", epoch, val_running_loss))\n",
        "        \n",
        "    # Print message\n",
        "    print('Done training...')\n",
        "    \n",
        "    # Return statement\n",
        "    return(results)"
      ],
      "execution_count": 49,
      "outputs": []
    },
    {
      "cell_type": "code",
      "metadata": {
        "colab": {
          "base_uri": "https://localhost:8080/",
          "height": 361
        },
        "id": "tCu5XWKpu0P5",
        "outputId": "d28afba1-b261-425b-d3cf-82a342745475"
      },
      "source": [
        "train()"
      ],
      "execution_count": 50,
      "outputs": [
        {
          "output_type": "stream",
          "text": [
            "/usr/local/lib/python3.6/dist-packages/torch/nn/modules/loss.py:446: UserWarning: Using a target size (torch.Size([32, 1, 784])) that is different to the input size (torch.Size([32, 784])). This will likely lead to incorrect results due to broadcasting. Please ensure they have the same size.\n",
            "  return F.mse_loss(input, target, reduction=self.reduction)\n"
          ],
          "name": "stderr"
        },
        {
          "output_type": "error",
          "ename": "RuntimeError",
          "evalue": "ignored",
          "traceback": [
            "\u001b[0;31m---------------------------------------------------------------------------\u001b[0m",
            "\u001b[0;31mRuntimeError\u001b[0m                              Traceback (most recent call last)",
            "\u001b[0;32m<ipython-input-50-2da0ffaf5447>\u001b[0m in \u001b[0;36m<module>\u001b[0;34m()\u001b[0m\n\u001b[0;32m----> 1\u001b[0;31m \u001b[0mtrain\u001b[0m\u001b[0;34m(\u001b[0m\u001b[0;34m)\u001b[0m\u001b[0;34m\u001b[0m\u001b[0;34m\u001b[0m\u001b[0m\n\u001b[0m",
            "\u001b[0;32m<ipython-input-49-2c2e32f3c746>\u001b[0m in \u001b[0;36mtrain\u001b[0;34m(epochs, batch_size, data_dir)\u001b[0m\n\u001b[1;32m     88\u001b[0m \u001b[0;34m\u001b[0m\u001b[0m\n\u001b[1;32m     89\u001b[0m             \u001b[0;31m# Calculate loss\u001b[0m\u001b[0;34m\u001b[0m\u001b[0;34m\u001b[0m\u001b[0;34m\u001b[0m\u001b[0m\n\u001b[0;32m---> 90\u001b[0;31m             \u001b[0mloss\u001b[0m \u001b[0;34m=\u001b[0m \u001b[0mcriterion\u001b[0m\u001b[0;34m(\u001b[0m\u001b[0mpred_images\u001b[0m\u001b[0;34m,\u001b[0m \u001b[0mflat_clean_imgs\u001b[0m\u001b[0;34m)\u001b[0m\u001b[0;34m\u001b[0m\u001b[0;34m\u001b[0m\u001b[0m\n\u001b[0m\u001b[1;32m     91\u001b[0m \u001b[0;34m\u001b[0m\u001b[0m\n\u001b[1;32m     92\u001b[0m             \u001b[0;31m# Backward\u001b[0m\u001b[0;34m\u001b[0m\u001b[0;34m\u001b[0m\u001b[0;34m\u001b[0m\u001b[0m\n",
            "\u001b[0;32m/usr/local/lib/python3.6/dist-packages/torch/nn/modules/module.py\u001b[0m in \u001b[0;36m_call_impl\u001b[0;34m(self, *input, **kwargs)\u001b[0m\n\u001b[1;32m    725\u001b[0m             \u001b[0mresult\u001b[0m \u001b[0;34m=\u001b[0m \u001b[0mself\u001b[0m\u001b[0;34m.\u001b[0m\u001b[0m_slow_forward\u001b[0m\u001b[0;34m(\u001b[0m\u001b[0;34m*\u001b[0m\u001b[0minput\u001b[0m\u001b[0;34m,\u001b[0m \u001b[0;34m**\u001b[0m\u001b[0mkwargs\u001b[0m\u001b[0;34m)\u001b[0m\u001b[0;34m\u001b[0m\u001b[0;34m\u001b[0m\u001b[0m\n\u001b[1;32m    726\u001b[0m         \u001b[0;32melse\u001b[0m\u001b[0;34m:\u001b[0m\u001b[0;34m\u001b[0m\u001b[0;34m\u001b[0m\u001b[0m\n\u001b[0;32m--> 727\u001b[0;31m             \u001b[0mresult\u001b[0m \u001b[0;34m=\u001b[0m \u001b[0mself\u001b[0m\u001b[0;34m.\u001b[0m\u001b[0mforward\u001b[0m\u001b[0;34m(\u001b[0m\u001b[0;34m*\u001b[0m\u001b[0minput\u001b[0m\u001b[0;34m,\u001b[0m \u001b[0;34m**\u001b[0m\u001b[0mkwargs\u001b[0m\u001b[0;34m)\u001b[0m\u001b[0;34m\u001b[0m\u001b[0;34m\u001b[0m\u001b[0m\n\u001b[0m\u001b[1;32m    728\u001b[0m         for hook in itertools.chain(\n\u001b[1;32m    729\u001b[0m                 \u001b[0m_global_forward_hooks\u001b[0m\u001b[0;34m.\u001b[0m\u001b[0mvalues\u001b[0m\u001b[0;34m(\u001b[0m\u001b[0;34m)\u001b[0m\u001b[0;34m,\u001b[0m\u001b[0;34m\u001b[0m\u001b[0;34m\u001b[0m\u001b[0m\n",
            "\u001b[0;32m/usr/local/lib/python3.6/dist-packages/torch/nn/modules/loss.py\u001b[0m in \u001b[0;36mforward\u001b[0;34m(self, input, target)\u001b[0m\n\u001b[1;32m    444\u001b[0m \u001b[0;34m\u001b[0m\u001b[0m\n\u001b[1;32m    445\u001b[0m     \u001b[0;32mdef\u001b[0m \u001b[0mforward\u001b[0m\u001b[0;34m(\u001b[0m\u001b[0mself\u001b[0m\u001b[0;34m,\u001b[0m \u001b[0minput\u001b[0m\u001b[0;34m:\u001b[0m \u001b[0mTensor\u001b[0m\u001b[0;34m,\u001b[0m \u001b[0mtarget\u001b[0m\u001b[0;34m:\u001b[0m \u001b[0mTensor\u001b[0m\u001b[0;34m)\u001b[0m \u001b[0;34m->\u001b[0m \u001b[0mTensor\u001b[0m\u001b[0;34m:\u001b[0m\u001b[0;34m\u001b[0m\u001b[0;34m\u001b[0m\u001b[0m\n\u001b[0;32m--> 446\u001b[0;31m         \u001b[0;32mreturn\u001b[0m \u001b[0mF\u001b[0m\u001b[0;34m.\u001b[0m\u001b[0mmse_loss\u001b[0m\u001b[0;34m(\u001b[0m\u001b[0minput\u001b[0m\u001b[0;34m,\u001b[0m \u001b[0mtarget\u001b[0m\u001b[0;34m,\u001b[0m \u001b[0mreduction\u001b[0m\u001b[0;34m=\u001b[0m\u001b[0mself\u001b[0m\u001b[0;34m.\u001b[0m\u001b[0mreduction\u001b[0m\u001b[0;34m)\u001b[0m\u001b[0;34m\u001b[0m\u001b[0;34m\u001b[0m\u001b[0m\n\u001b[0m\u001b[1;32m    447\u001b[0m \u001b[0;34m\u001b[0m\u001b[0m\n\u001b[1;32m    448\u001b[0m \u001b[0;34m\u001b[0m\u001b[0m\n",
            "\u001b[0;32m/usr/local/lib/python3.6/dist-packages/torch/nn/functional.py\u001b[0m in \u001b[0;36mmse_loss\u001b[0;34m(input, target, size_average, reduce, reduction)\u001b[0m\n\u001b[1;32m   2658\u001b[0m \u001b[0;34m\u001b[0m\u001b[0m\n\u001b[1;32m   2659\u001b[0m     \u001b[0mexpanded_input\u001b[0m\u001b[0;34m,\u001b[0m \u001b[0mexpanded_target\u001b[0m \u001b[0;34m=\u001b[0m \u001b[0mtorch\u001b[0m\u001b[0;34m.\u001b[0m\u001b[0mbroadcast_tensors\u001b[0m\u001b[0;34m(\u001b[0m\u001b[0minput\u001b[0m\u001b[0;34m,\u001b[0m \u001b[0mtarget\u001b[0m\u001b[0;34m)\u001b[0m\u001b[0;34m\u001b[0m\u001b[0;34m\u001b[0m\u001b[0m\n\u001b[0;32m-> 2660\u001b[0;31m     \u001b[0;32mreturn\u001b[0m \u001b[0mtorch\u001b[0m\u001b[0;34m.\u001b[0m\u001b[0m_C\u001b[0m\u001b[0;34m.\u001b[0m\u001b[0m_nn\u001b[0m\u001b[0;34m.\u001b[0m\u001b[0mmse_loss\u001b[0m\u001b[0;34m(\u001b[0m\u001b[0mexpanded_input\u001b[0m\u001b[0;34m,\u001b[0m \u001b[0mexpanded_target\u001b[0m\u001b[0;34m,\u001b[0m \u001b[0m_Reduction\u001b[0m\u001b[0;34m.\u001b[0m\u001b[0mget_enum\u001b[0m\u001b[0;34m(\u001b[0m\u001b[0mreduction\u001b[0m\u001b[0;34m)\u001b[0m\u001b[0;34m)\u001b[0m\u001b[0;34m\u001b[0m\u001b[0;34m\u001b[0m\u001b[0m\n\u001b[0m\u001b[1;32m   2661\u001b[0m \u001b[0;34m\u001b[0m\u001b[0m\n\u001b[1;32m   2662\u001b[0m \u001b[0;34m\u001b[0m\u001b[0m\n",
            "\u001b[0;31mRuntimeError\u001b[0m: Expected all tensors to be on the same device, but found at least two devices, cuda:0 and cpu!"
          ]
        }
      ]
    }
  ]
}