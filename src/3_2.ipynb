{
  "nbformat": 4,
  "nbformat_minor": 0,
  "metadata": {
    "kernelspec": {
      "display_name": "Python 3",
      "language": "python",
      "name": "python3"
    },
    "language_info": {
      "codemirror_mode": {
        "name": "ipython",
        "version": 3
      },
      "file_extension": ".py",
      "mimetype": "text/x-python",
      "name": "python",
      "nbconvert_exporter": "python",
      "pygments_lexer": "ipython3",
      "version": "3.8.0"
    },
    "colab": {
      "name": "3_2.ipynb",
      "provenance": [],
      "collapsed_sections": [],
      "include_colab_link": true
    },
    "accelerator": "GPU"
  },
  "cells": [
    {
      "cell_type": "markdown",
      "metadata": {
        "id": "view-in-github",
        "colab_type": "text"
      },
      "source": [
        "<a href=\"https://colab.research.google.com/github/akshatgoel92/intro-dl-2/blob/master/src/3_2.ipynb\" target=\"_parent\"><img src=\"https://colab.research.google.com/assets/colab-badge.svg\" alt=\"Open In Colab\"/></a>"
      ]
    },
    {
      "cell_type": "code",
      "metadata": {
        "colab": {
          "base_uri": "https://localhost:8080/"
        },
        "id": "2WDdC5E0llYu",
        "outputId": "4606e907-1ce5-4809-b09f-227616dd284a"
      },
      "source": [
        "# Mount Google Drive so we can access data\n",
        "from google.colab import drive\n",
        "drive.mount('/content/drive')"
      ],
      "execution_count": 4,
      "outputs": [
        {
          "output_type": "stream",
          "text": [
            "Mounted at /content/drive\n"
          ],
          "name": "stdout"
        }
      ]
    },
    {
      "cell_type": "code",
      "metadata": {
        "colab": {
          "base_uri": "https://localhost:8080/"
        },
        "id": "-XQHea_TnP4S",
        "outputId": "fc26492c-faf2-4535-c0c9-eb493ffa73fa"
      },
      "source": [
        "# Install idx2numpy package for extracting data\n",
        "!pip install idx2numpy"
      ],
      "execution_count": 5,
      "outputs": [
        {
          "output_type": "stream",
          "text": [
            "Collecting idx2numpy\n",
            "  Downloading https://files.pythonhosted.org/packages/7e/6b/80628f6cc2f44d80b27f1ef7b57b257ed4c73766113b77d13ad110c091b4/idx2numpy-1.2.3.tar.gz\n",
            "Requirement already satisfied: numpy in /usr/local/lib/python3.6/dist-packages (from idx2numpy) (1.18.5)\n",
            "Requirement already satisfied: six in /usr/local/lib/python3.6/dist-packages (from idx2numpy) (1.15.0)\n",
            "Building wheels for collected packages: idx2numpy\n",
            "  Building wheel for idx2numpy (setup.py) ... \u001b[?25l\u001b[?25hdone\n",
            "  Created wheel for idx2numpy: filename=idx2numpy-1.2.3-cp36-none-any.whl size=7907 sha256=81fe10c5e0b4aeaf54efea3e5325b55a652d1dc396729c1920539e11ae2bcc1e\n",
            "  Stored in directory: /root/.cache/pip/wheels/7a/c1/da/284ce80a748fab898b8d1fa95468a386e7cf3b81da18511f9d\n",
            "Successfully built idx2numpy\n",
            "Installing collected packages: idx2numpy\n",
            "Successfully installed idx2numpy-1.2.3\n"
          ],
          "name": "stdout"
        }
      ]
    },
    {
      "cell_type": "code",
      "metadata": {
        "id": "-9CsmgA1jCg4"
      },
      "source": [
        "# Import packages\n",
        "import os\n",
        "import json\n",
        "import gzip\n",
        "import torch\n",
        "import torchvision\n",
        "import numpy as np \n",
        "import pandas as pd\n",
        "\n",
        "import idx2numpy\n",
        "import torch.nn as nn\n",
        "import torch.optim as optim\n",
        "import torch.nn.functional as F\n",
        "import torchvision.transforms.functional as transforms\n",
        "import torchvision.transforms as trans\n",
        "import matplotlib.pyplot as plt\n",
        "\n",
        "from collections import OrderedDict "
      ],
      "execution_count": 6,
      "outputs": []
    },
    {
      "cell_type": "code",
      "metadata": {
        "id": "GQ_LaHAZECg1"
      },
      "source": [
        "def get_best_results(results):\n",
        "  '''\n",
        "  Take in a results dictionary \n",
        "  and return epoch on which \n",
        "  minimum validation loss was\n",
        "  reached, minimum val. loss on\n",
        "  that epoch, and min. accuracy\n",
        "  on that epoch\n",
        "  '''\n",
        "  # Find the epoch on which the minimum validation loss was reached\n",
        "  best_val_epoch = np.argmin(np.array(results['val_loss']))\n",
        "  \n",
        "  # Store validation metrics\n",
        "  best_epoch_val_loss = np.array(results['val_loss'][best_val_epoch])\n",
        "\n",
        "  # Store training metrics\n",
        "  best_epoch_train_loss = np.array(results['train_loss'][best_val_epoch])\n",
        "  \n",
        "  # Store best results in a list\n",
        "  best_results = [np.int(best_val_epoch), \n",
        "                  np.float(best_epoch_val_loss),\n",
        "                  np.float(best_epoch_train_loss)]\n",
        "\n",
        "  # Return statement\n",
        "  return(best_results)\n",
        "\n",
        "\n",
        "def plot_loss(results, lab, model_num):\n",
        "  '''\n",
        "  Convenience function to plot results\n",
        "  '''\n",
        "  # Store model name and destination path\n",
        "  model_name = str(model_num) + '_' + lab + '_results.png'\n",
        "  path = os.path.join('/content/drive/MyDrive/', '2_figs', model_name)\n",
        "  \n",
        "  # Plot the results\n",
        "  plt.plot(results['train_' + lab], label='Train')\n",
        "  plt.plot(results['val_' + lab], label='Validation')\n",
        "  \n",
        "  # Add annotations\n",
        "  plt.legend()\n",
        "  plt.title(lab.title() + ' by Epoch')\n",
        "  \n",
        "  # Save the figure and close the plot\n",
        "  plt.savefig(path)\n",
        "  plt.clf()"
      ],
      "execution_count": 18,
      "outputs": []
    },
    {
      "cell_type": "code",
      "metadata": {
        "id": "RmfcKJJCjCg5"
      },
      "source": [
        "def load_one_dataset(path):\n",
        "    '''\n",
        "    Convenience function to load a single dataset\n",
        "    '''\n",
        "    f = gzip.open(path, 'rb')\n",
        "    data = torch.from_numpy(idx2numpy.convert_from_file(f).astype('float64'))\n",
        "    f.close()\n",
        "    \n",
        "    return(data)\n",
        "\n",
        "\n",
        "def load_all_datasets(train_imgs, train_labs, test_imgs, test_labs, batch_size):\n",
        "    '''\n",
        "    Load training as well as test images here\n",
        "    '''\n",
        "    train_images = load_one_dataset(train_imgs).type(torch.float32)/255.0\n",
        "    train_labels = load_one_dataset(train_labs).type(torch.long)\n",
        "    train = list(zip(train_images, train_labels))\n",
        "\n",
        "    test_images = load_one_dataset(test_imgs).type(torch.float32)/255.0\n",
        "    test_labels = load_one_dataset(test_labs).type(torch.long)\n",
        "    test = list(zip(test_images, test_labels))\n",
        "    \n",
        "    train_loader = torch.utils.data.DataLoader(train, batch_size=batch_size, shuffle=True, num_workers=2)\n",
        "    test_loader = torch.utils.data.DataLoader(test, batch_size=batch_size, shuffle=False, num_workers=2)\n",
        "    \n",
        "    return(train_loader, test_loader)"
      ],
      "execution_count": 8,
      "outputs": []
    },
    {
      "cell_type": "code",
      "metadata": {
        "id": "FY9lnBvi8W8U"
      },
      "source": [
        "def add_noise(img, quadrants):\n",
        "  '''\n",
        "  Randomly remove 1 or 2 quadrants\n",
        "  from the input image.\n",
        "  '''\n",
        "  # Get the number of quadrants to erase\n",
        "  n_quads_to_erase = np.random.choice([1, 2])\n",
        "\n",
        "  # Get which quadrants to erase\n",
        "  quads_to_erase = np.random.choice([1, 2, 3, 4], size = n_quads_to_erase)\n",
        "\n",
        "  # Create a copy of the image\n",
        "  noisy_img = img.clone()\n",
        "\n",
        "  # Now erase the quadrants\n",
        "  for quad in quads_to_erase:\n",
        "    noisy_img = transforms.erase(noisy_img, *quadrants[quad])\n",
        "  \n",
        "  # Return statement\n",
        "  return(noisy_img)"
      ],
      "execution_count": 9,
      "outputs": []
    },
    {
      "cell_type": "code",
      "metadata": {
        "id": "NMPdTKZsp1Da"
      },
      "source": [
        "def plot_image(imgs):\n",
        "  '''\n",
        "  Take an image stored as a Torch\n",
        "  tensor and display it in the notebook\n",
        "  '''\n",
        "  plt.figure(figsize=(20,10))\n",
        "  columns = 5\n",
        "  \n",
        "  for i, img in enumerate(imgs):\n",
        "    plt.subplot(len(imgs) / columns + 1, columns, i + 1)\n",
        "    plt.imshow(img.cpu().numpy().reshape(28,28))"
      ],
      "execution_count": 10,
      "outputs": []
    },
    {
      "cell_type": "code",
      "metadata": {
        "id": "WomUkeFVrI7-"
      },
      "source": [
        "def test_noise():\n",
        "  '''\n",
        "  Test the noise function\n",
        "  '''\n",
        "  # Just for testing out noise function\n",
        "  data_dir = '/content/drive/MyDrive/data'\n",
        "\n",
        "  # Set paths\n",
        "  paths = {\n",
        "        'train_imgs': os.path.join(data_dir, 'train-images-idx3-ubyte.gz'),\n",
        "        'train_labs': os.path.join(data_dir, 'train-labels-idx1-ubyte.gz'),\n",
        "        'test_imgs': os.path.join(data_dir,'t10k-images-idx3-ubyte.gz'),\n",
        "        'test_labs': os.path.join(data_dir,'t10k-labels-idx1-ubyte.gz')\n",
        "  }\n",
        "\n",
        "  # Load datasets\n",
        "  train_loader, test_loader = load_all_datasets(**paths, batch_size = 32)\n",
        "\n",
        "  # Get the next batch from the train loader\n",
        "  images, labels = iter(train_loader).next()\n",
        "\n",
        "  # Store the quadrant definitions: move this into training loop later\n",
        "  quadrants = {\n",
        "      \n",
        "      1: [0, 0, 14, 14, 0], \n",
        "      2: [0, 14, 14, 14, 0],\n",
        "      3: [14, 0, 14, 14, 0],\n",
        "      4: [14, 14, 14, 14, 0],\n",
        "  }\n",
        "\n",
        "  # Take the first image in the batch\n",
        "  img = images[0]\n",
        "\n",
        "  # Get noisy image\n",
        "  noisy_img = add_noise(img, quadrants)\n",
        "\n",
        "  #plot_image(noisy_img)\n",
        "\n",
        "  # Return statement\n",
        "  return(img, noisy_img)"
      ],
      "execution_count": 11,
      "outputs": []
    },
    {
      "cell_type": "code",
      "metadata": {
        "id": "aOGyBhE10xQQ",
        "colab": {
          "base_uri": "https://localhost:8080/",
          "height": 505
        },
        "outputId": "5cc522fb-f383-484e-ca6b-effedc0f7343"
      },
      "source": [
        "test_noise()"
      ],
      "execution_count": null,
      "outputs": [
        {
          "output_type": "error",
          "ename": "ValueError",
          "evalue": "ignored",
          "traceback": [
            "\u001b[0;31m---------------------------------------------------------------------------\u001b[0m",
            "\u001b[0;31mValueError\u001b[0m                                Traceback (most recent call last)",
            "\u001b[0;32m<ipython-input-9-722604aee3b2>\u001b[0m in \u001b[0;36m<module>\u001b[0;34m()\u001b[0m\n\u001b[0;32m----> 1\u001b[0;31m \u001b[0mtest_noise\u001b[0m\u001b[0;34m(\u001b[0m\u001b[0;34m)\u001b[0m\u001b[0;34m\u001b[0m\u001b[0;34m\u001b[0m\u001b[0m\n\u001b[0m",
            "\u001b[0;32m<ipython-input-8-cab131e33795>\u001b[0m in \u001b[0;36mtest_noise\u001b[0;34m()\u001b[0m\n\u001b[1;32m     35\u001b[0m   \u001b[0mnoisy_img\u001b[0m \u001b[0;34m=\u001b[0m \u001b[0madd_noise\u001b[0m\u001b[0;34m(\u001b[0m\u001b[0mimg\u001b[0m\u001b[0;34m,\u001b[0m \u001b[0mquadrants\u001b[0m\u001b[0;34m)\u001b[0m\u001b[0;34m\u001b[0m\u001b[0;34m\u001b[0m\u001b[0m\n\u001b[1;32m     36\u001b[0m \u001b[0;34m\u001b[0m\u001b[0m\n\u001b[0;32m---> 37\u001b[0;31m   \u001b[0mplot_image\u001b[0m\u001b[0;34m(\u001b[0m\u001b[0mnoisy_img\u001b[0m\u001b[0;34m)\u001b[0m\u001b[0;34m\u001b[0m\u001b[0;34m\u001b[0m\u001b[0m\n\u001b[0m\u001b[1;32m     38\u001b[0m \u001b[0;34m\u001b[0m\u001b[0m\n\u001b[1;32m     39\u001b[0m   \u001b[0;31m# Return statement\u001b[0m\u001b[0;34m\u001b[0m\u001b[0;34m\u001b[0m\u001b[0;34m\u001b[0m\u001b[0m\n",
            "\u001b[0;32m<ipython-input-7-16366f30fe94>\u001b[0m in \u001b[0;36mplot_image\u001b[0;34m(imgs)\u001b[0m\n\u001b[1;32m      9\u001b[0m   \u001b[0;32mfor\u001b[0m \u001b[0mi\u001b[0m\u001b[0;34m,\u001b[0m \u001b[0mimg\u001b[0m \u001b[0;32min\u001b[0m \u001b[0menumerate\u001b[0m\u001b[0;34m(\u001b[0m\u001b[0mimgs\u001b[0m\u001b[0;34m)\u001b[0m\u001b[0;34m:\u001b[0m\u001b[0;34m\u001b[0m\u001b[0;34m\u001b[0m\u001b[0m\n\u001b[1;32m     10\u001b[0m     \u001b[0mplt\u001b[0m\u001b[0;34m.\u001b[0m\u001b[0msubplot\u001b[0m\u001b[0;34m(\u001b[0m\u001b[0mlen\u001b[0m\u001b[0;34m(\u001b[0m\u001b[0mimgs\u001b[0m\u001b[0;34m)\u001b[0m \u001b[0;34m/\u001b[0m \u001b[0mcolumns\u001b[0m \u001b[0;34m+\u001b[0m \u001b[0;36m1\u001b[0m\u001b[0;34m,\u001b[0m \u001b[0mcolumns\u001b[0m\u001b[0;34m,\u001b[0m \u001b[0mi\u001b[0m \u001b[0;34m+\u001b[0m \u001b[0;36m1\u001b[0m\u001b[0;34m)\u001b[0m\u001b[0;34m\u001b[0m\u001b[0;34m\u001b[0m\u001b[0m\n\u001b[0;32m---> 11\u001b[0;31m     \u001b[0mplt\u001b[0m\u001b[0;34m.\u001b[0m\u001b[0mimshow\u001b[0m\u001b[0;34m(\u001b[0m\u001b[0mimg\u001b[0m\u001b[0;34m.\u001b[0m\u001b[0mcpu\u001b[0m\u001b[0;34m(\u001b[0m\u001b[0;34m)\u001b[0m\u001b[0;34m.\u001b[0m\u001b[0mnumpy\u001b[0m\u001b[0;34m(\u001b[0m\u001b[0;34m)\u001b[0m\u001b[0;34m.\u001b[0m\u001b[0mreshape\u001b[0m\u001b[0;34m(\u001b[0m\u001b[0;36m28\u001b[0m\u001b[0;34m,\u001b[0m\u001b[0;36m28\u001b[0m\u001b[0;34m)\u001b[0m\u001b[0;34m)\u001b[0m\u001b[0;34m\u001b[0m\u001b[0;34m\u001b[0m\u001b[0m\n\u001b[0m",
            "\u001b[0;31mValueError\u001b[0m: cannot reshape array of size 28 into shape (28,28)"
          ]
        },
        {
          "output_type": "display_data",
          "data": {
            "image/png": "[encoded data removed]",
            "text/plain": [
              "<Figure size 1440x720 with 1 Axes>"
            ]
          },
          "metadata": {
            "tags": [],
            "needs_background": "light"
          }
        }
      ]
    },
    {
      "cell_type": "code",
      "metadata": {
        "id": "T6rjOJekfxx9"
      },
      "source": [
        "class DenoisingAutoencoder(nn.Module):\n",
        "  \n",
        "  def __init__(self, encoder_units, decoder_units, input_dim, output_dim):\n",
        "    \n",
        "    # Conventional super-class declaration\n",
        "    super(DenoisingAutoencoder, self).__init__()\n",
        "\n",
        "    # Initialize lists to store layers\n",
        "    encoder = []\n",
        "    decoder = []\n",
        "\n",
        "    # Add input and output dimensions to layer list for encoder\n",
        "    self.encoder_units = [input_dim] + encoder_units\n",
        "    self.decoder_units = [encoder_units[-1]] + decoder_units + [output_dim]\n",
        "\n",
        "    # Compute the total no. of layers for the encoder/decoder\n",
        "    self.encoder_layers = len(self.encoder_units)\n",
        "    self.decoder_layers = len(self.decoder_units)\n",
        "\n",
        "    # Append the hidden layers for the encoder\n",
        "    for i in range(1, self.encoder_layers):\n",
        "      \n",
        "      # Add linear layer\n",
        "      layer = ('Linear{}'.format(i), nn.Linear(self.encoder_units[i-1], self.encoder_units[i]))\n",
        "      activation = ('RELU{}'.format(i), nn.ReLU(True))\n",
        "      \n",
        "      # Append\n",
        "      encoder.append(layer)\n",
        "      encoder.append(activation)\n",
        "    \n",
        "    # Append the hidden layers for the decoder\n",
        "    for i in range(1, self.decoder_layers - 1):\n",
        "      \n",
        "      # Add the layers\n",
        "      layer = ('Linear{}'.format(i), nn.Linear(self.decoder_units[i-1], self.decoder_units[i]))\n",
        "      activation = ('RELU{}'.format(i), nn.ReLU(True))\n",
        "      \n",
        "      # Append to the lists\n",
        "      decoder.append(layer)\n",
        "      decoder.append(activation)\n",
        "\n",
        "    # Create final output layer\n",
        "    i = self.decoder_layers - 1\n",
        "    layer = ('Linear{}'.format(i), nn.Linear(self.decoder_units[i-1], self.decoder_units[i]))\n",
        "    activation = ('Sigmoid{}'.format(i), nn.Sigmoid())\n",
        "    \n",
        "    # Append to decoder list\n",
        "    decoder.append(layer)\n",
        "    decoder.append(activation)\n",
        "    \n",
        "    # Wrap this in a container and declare the encoder/decoder\n",
        "    self.encoder = nn.Sequential(OrderedDict(encoder))\n",
        "    self.decoder = nn.Sequential(OrderedDict(decoder))\n",
        "    \n",
        "  def forward(self,x):\n",
        "    \n",
        "    # First encode the noisy image and then decode\n",
        "    x=self.encoder(x)\n",
        "    x=self.decoder(x)\n",
        "    \n",
        "    return x"
      ],
      "execution_count": 12,
      "outputs": []
    },
    {
      "cell_type": "code",
      "metadata": {
        "id": "NJqcKjOyq1xn"
      },
      "source": [
        "def train(config,\n",
        "          epochs=2, \n",
        "          input_dim = 784, output_dim = 784, \n",
        "          data_dir = '/content/drive/MyDrive/data'):\n",
        "    '''\n",
        "    This is the main training loop\n",
        "    '''\n",
        "    # Set the seed so each experiment is reproducible\n",
        "    np.random.seed(21390)\n",
        "    torch.manual_seed(10394)\n",
        "\n",
        "    # Set device\n",
        "    if torch.cuda.is_available():\n",
        "      device = torch.device(\"cuda\")\n",
        "    else:\n",
        "      device = torch.device(\"cpu\")\n",
        "    \n",
        "    # Set paths to datasets\n",
        "    paths = {\n",
        "        'train_imgs': os.path.join(data_dir, 'train-images-idx3-ubyte.gz'),\n",
        "        'train_labs': os.path.join(data_dir, 'train-labels-idx1-ubyte.gz'),\n",
        "        'test_imgs': os.path.join(data_dir,'t10k-images-idx3-ubyte.gz'),\n",
        "        'test_labs': os.path.join(data_dir,'t10k-labels-idx1-ubyte.gz')\n",
        "    }\n",
        "\n",
        "    #------------------------------------------------------------------------------------------------------\n",
        "\n",
        "    # to track the training loss as the model trains\n",
        "    train_losses = []\n",
        "    # to track the validation loss as the model trains\n",
        "    valid_losses = []\n",
        "    # to track the average training loss per epoch as the model trains\n",
        "    avg_train_losses = []\n",
        "    # to track the average validation loss per epoch as the model trains\n",
        "    avg_valid_losses = [] \n",
        "    \n",
        "    # initialize the early_stopping object\n",
        "    #early_stopping = EarlyStopping(patience=patience, verbose=True)\n",
        "\n",
        "    # for epoch in range(1, n_epochs + 1):\n",
        "\n",
        "    #     ###################\n",
        "    #     # train the model #\n",
        "    #     ###################\n",
        "    #     model.train() # prep model for training\n",
        "    #     for batch, (data, target) in enumerate(train_loader, 1):\n",
        "    #         # clear the gradients of all optimized variables\n",
        "    #         optimizer.zero_grad()\n",
        "    #         # forward pass: compute predicted outputs by passing inputs to the model\n",
        "    #         output = model(data)\n",
        "    #         # calculate the loss\n",
        "    #         loss = criterion(output, target)\n",
        "    #         # backward pass: compute gradient of the loss with respect to model parameters\n",
        "    #         loss.backward()\n",
        "    #         # perform a single optimization step (parameter update)\n",
        "    #         optimizer.step()\n",
        "    #         # record training loss\n",
        "    #         train_losses.append(loss.item())\n",
        "\n",
        "    #     ######################    \n",
        "    #     # validate the model #\n",
        "    #     ######################\n",
        "    #     model.eval() # prep model for evaluation\n",
        "    #     for data, target in valid_loader:\n",
        "    #         # forward pass: compute predicted outputs by passing inputs to the model\n",
        "    #         output = model(data)\n",
        "    #         # calculate the loss\n",
        "    #         loss = criterion(output, target)\n",
        "    #         # record validation loss\n",
        "    #         valid_losses.append(loss.item())\n",
        "\n",
        "    #     # print training/validation statistics \n",
        "    #     # calculate average loss over an epoch\n",
        "    #     train_loss = np.average(train_losses)\n",
        "    #     valid_loss = np.average(valid_losses)\n",
        "    #     avg_train_losses.append(train_loss)\n",
        "    #     avg_valid_losses.append(valid_loss)\n",
        "        \n",
        "    #     epoch_len = len(str(n_epochs))\n",
        "        \n",
        "    #     print_msg = (f'[{epoch:>{epoch_len}}/{n_epochs:>{epoch_len}}] ' +\n",
        "    #                  f'train_loss: {train_loss:.5f} ' +\n",
        "    #                  f'valid_loss: {valid_loss:.5f}')\n",
        "        \n",
        "    #     print(print_msg)\n",
        "        \n",
        "    #     # clear lists to track next epoch\n",
        "    #     train_losses = []\n",
        "    #     valid_losses = []\n",
        "        \n",
        "    #     # early_stopping needs the validation loss to check if it has decresed, \n",
        "    #     # and if it has, it will make a checkpoint of the current model\n",
        "    #     early_stopping(valid_loss, model)\n",
        "        \n",
        "    #     if early_stopping.early_stop:\n",
        "    #         print(\"Early stopping\")\n",
        "    #         break\n",
        "        \n",
        "    # # load the last checkpoint with the best model\n",
        "    # model.load_state_dict(torch.load('checkpoint.pt'))\n",
        "\n",
        "    # return  model, avg_train_losses, avg_valid_losses \n",
        "\n",
        "    #------------------------------------------------------------------------------------------------------\n",
        "\n",
        "    # Store the quadrant definitions: move this into training loop later\n",
        "    quadrants = {\n",
        "      \n",
        "      1: [0, 0, 14, 14, 0], \n",
        "      2: [0, 14, 14, 14, 0],\n",
        "      3: [14, 0, 14, 14, 0],\n",
        "      4: [14, 14, 14, 14, 0],\n",
        "    }\n",
        "\n",
        "    # Load datasets\n",
        "    train_loader, test_loader = load_all_datasets(**paths, batch_size = config['batch_size'])\n",
        "\n",
        "    \n",
        "    # Set parameters\n",
        "    net = DenoisingAutoencoder(config['encoder_units'], config['decoder_units'], input_dim, output_dim)\n",
        "    \n",
        "    # Send net object to device memory\n",
        "    net.to(device)\n",
        "    \n",
        "    # We use the cross-entropy loss\n",
        "    criterion = nn.MSELoss()\n",
        "\n",
        "    # We use mini-batch stochastic gradient descent with momentum\n",
        "    optimizer = optim.SGD(net.parameters(), lr=config['lr'], momentum=config['momentum'], \n",
        "                                            weight_decay=config['weight_decay'])\n",
        "\n",
        "    # Store results here\n",
        "    results = {\n",
        "      'train_loss': [], \n",
        "      'val_loss': [], \n",
        "      }\n",
        "\n",
        "    # Loop over the dataset multiple times\n",
        "    for epoch in range(epochs):  \n",
        "        \n",
        "        # Initialize running loss\n",
        "        running_loss = 0.0\n",
        "        running_accuracy = 0.0\n",
        "\n",
        "        # Initialize the validation running loss\n",
        "        val_running_loss = 0.0\n",
        "        val_running_accuracy = 0.0\n",
        "\n",
        "        plot_noise = []\n",
        "        plot_preds = []\n",
        "        plot_clean = []\n",
        "        \n",
        "        # Iterate through data now\n",
        "        for i, data in enumerate(train_loader):\n",
        "            \n",
        "            # Get the inputs: data is a list of [inputs, labels]\n",
        "            clean_images, _ = data\n",
        "            \n",
        "            # Initialize container for noisy images\n",
        "            noisy_images = []\n",
        "\n",
        "            # Now get noisy images\n",
        "            for img in clean_images: \n",
        "              noisy_images.append(add_noise(img, quadrants))\n",
        "            \n",
        "            # Convert noisy image list to Torch tensor\n",
        "            noisy_images = torch.stack(noisy_images, dim =0)\n",
        "            \n",
        "            # Flatten noisy images\n",
        "            noisy_images=noisy_images.view(noisy_images.size(0),-1).type(torch.FloatTensor)\n",
        "            \n",
        "            # Flatten clean images\n",
        "            flat_clean_imgs = clean_images.view(clean_images.size(0),-1).type(torch.FloatTensor)\n",
        "\n",
        "            # Send the inputs and labels to the memory of the device\n",
        "            noisy_images, flat_clean_imgs = noisy_images.to(device), flat_clean_imgs.to(device)\n",
        "\n",
        "            # Zero the parameter gradients\n",
        "            optimizer.zero_grad()\n",
        "\n",
        "            # Forward\n",
        "            pred_images = net(noisy_images)\n",
        "\n",
        "            # Calculate loss\n",
        "            loss = criterion(pred_images, flat_clean_imgs)\n",
        "\n",
        "            # Backward\n",
        "            loss.backward()\n",
        "            \n",
        "            # Optimize\n",
        "            optimizer.step()\n",
        "\n",
        "            # Add to running loss\n",
        "            running_loss += loss.item()\n",
        "        \n",
        "        # Loop through the validation data\n",
        "        for j, data in enumerate(test_loader):\n",
        "          \n",
        "          # No need to calculate gradients for validation set\n",
        "          with torch.no_grad():\n",
        "\n",
        "              # Get the inputs: data is a list of [inputs, labels]\n",
        "              val_clean_images, _ = data\n",
        "            \n",
        "              # Initialize container for noisy images\n",
        "              val_noisy_images = []\n",
        "\n",
        "              # Now get noisy images\n",
        "              # Flatten clean images for loss calculation\n",
        "              for img in val_clean_images: \n",
        "                val_noisy_images.append(add_noise(img, quadrants))\n",
        "            \n",
        "              # Convert noisy image list to Torch tensor\n",
        "              # Flatten noisy validation images\n",
        "              val_noisy_images = torch.stack(val_noisy_images, dim =0)\n",
        "              val_noisy_images=val_noisy_images.view(val_noisy_images.size(0),-1).type(torch.FloatTensor)\n",
        "              \n",
        "              # Flatten clean validation images\n",
        "              val_flat_clean_imgs = val_clean_images.view(val_clean_images.size(0),-1).type(torch.FloatTensor)\n",
        "\n",
        "              # Send the inputs and labels to the memory of the device\n",
        "              val_noisy_images, val_flat_clean_imgs = val_noisy_images.to(device), val_flat_clean_imgs.to(device)\n",
        "\n",
        "              # Send the data item through the network to get output\n",
        "              val_pred_images = net(val_noisy_images)\n",
        "\n",
        "              # Plot images\n",
        "              noise_check = val_noisy_images[0]\n",
        "              pred_check = val_pred_images[0]\n",
        "              clean_check = val_flat_clean_imgs[0]\n",
        "              \n",
        "              plot_noise.append(noise_check)\n",
        "              plot_preds.append(pred_check)\n",
        "              plot_clean.append(clean_check)\n",
        "\n",
        "              # Compute the loss\n",
        "              # Add to running loss\n",
        "              val_loss = criterion(val_pred_images, val_flat_clean_imgs)\n",
        "              val_running_loss += val_loss.item()\n",
        "        \n",
        "        # Rescale the training and validation perfomance metrics\n",
        "        running_loss = (running_loss)/len(train_loader)\n",
        "        \n",
        "        # Rescale the validation loss\n",
        "        val_running_loss = (val_running_loss)/len(test_loader)\n",
        "        \n",
        "        # Append to the results tracker\n",
        "        results['train_loss'].append(np.float(running_loss))\n",
        "        results['val_loss'].append(np.float(val_running_loss))\n",
        "\n",
        "        # Make print message format string\n",
        "        msg = \"Epoch:{} | Training Loss:{} | Validation Loss: {}\" \"\\n\"\n",
        "\n",
        "        # Print performance\n",
        "        print(msg.format(epoch, running_loss, val_running_loss))\n",
        "        \n",
        "    # Print message\n",
        "    print('Done training...')\n",
        "\n",
        "    # Get the best results and print\n",
        "    best_results = get_best_results(results)\n",
        "    print(best_results)\n",
        "    \n",
        "    # Plot the losses\n",
        "    plot_loss(results, lab='loss', model_num=config['model_num'])\n",
        "    \n",
        "    # Return statement\n",
        "    return(results, best_results)#plot_noise, plot_preds, plot_clean)"
      ],
      "execution_count": 13,
      "outputs": []
    },
    {
      "cell_type": "code",
      "metadata": {
        "id": "tCu5XWKpu0P5",
        "colab": {
          "base_uri": "https://localhost:8080/",
          "height": 515
        },
        "outputId": "a43a70e6-7122-44c5-ee79-9f421ef5650b"
      },
      "source": [
        "# Test configuration\n",
        "test_config = {'lr': 0.7,\n",
        "               'batch_size': 64,\n",
        "               'weight_decay': 0.0,\n",
        "               'encoder_units': [512, 256, 128, 64],\n",
        "               'decoder_units': list(reversed([512, 256, 128, 64])),\n",
        "               'momentum': 0.99,\n",
        "               'done': 0,\n",
        "               'model_num': 1}\n",
        "\n",
        "\n",
        "# Try out the test configuration\n",
        "_, plot_noise, plot_preds, plot_clean = train(test_config, epochs = 20)"
      ],
      "execution_count": null,
      "outputs": [
        {
          "output_type": "stream",
          "text": [
            "Epoch:0 | Training Loss:0.07420310115556854 | Validation Loss: 0.048640049495704614\n",
            "\n",
            "Epoch:1 | Training Loss:0.03975419658047558 | Validation Loss: 0.033892688193138995\n",
            "\n",
            "Epoch:2 | Training Loss:0.03267972993412252 | Validation Loss: 0.03137076756424585\n",
            "\n",
            "Epoch:3 | Training Loss:0.029368808796839802 | Validation Loss: 0.028392602909047892\n",
            "\n",
            "Epoch:4 | Training Loss:0.027750221664892202 | Validation Loss: 0.02824113542914011\n",
            "\n"
          ],
          "name": "stdout"
        },
        {
          "output_type": "error",
          "ename": "KeyboardInterrupt",
          "evalue": "ignored",
          "traceback": [
            "\u001b[0;31m---------------------------------------------------------------------------\u001b[0m",
            "\u001b[0;31mKeyboardInterrupt\u001b[0m                         Traceback (most recent call last)",
            "\u001b[0;32m<ipython-input-43-b97453769f5c>\u001b[0m in \u001b[0;36m<module>\u001b[0;34m()\u001b[0m\n\u001b[1;32m     11\u001b[0m \u001b[0;34m\u001b[0m\u001b[0m\n\u001b[1;32m     12\u001b[0m \u001b[0;31m# Try out the test configuration\u001b[0m\u001b[0;34m\u001b[0m\u001b[0;34m\u001b[0m\u001b[0;34m\u001b[0m\u001b[0m\n\u001b[0;32m---> 13\u001b[0;31m \u001b[0m_\u001b[0m\u001b[0;34m,\u001b[0m \u001b[0mplot_noise\u001b[0m\u001b[0;34m,\u001b[0m \u001b[0mplot_preds\u001b[0m\u001b[0;34m,\u001b[0m \u001b[0mplot_clean\u001b[0m \u001b[0;34m=\u001b[0m \u001b[0mtrain\u001b[0m\u001b[0;34m(\u001b[0m\u001b[0mtest_config\u001b[0m\u001b[0;34m,\u001b[0m \u001b[0mepochs\u001b[0m \u001b[0;34m=\u001b[0m \u001b[0;36m20\u001b[0m\u001b[0;34m)\u001b[0m\u001b[0;34m\u001b[0m\u001b[0;34m\u001b[0m\u001b[0m\n\u001b[0m",
            "\u001b[0;32m<ipython-input-39-364658e4d340>\u001b[0m in \u001b[0;36mtrain\u001b[0;34m(config, epochs, input_dim, output_dim, data_dir)\u001b[0m\n\u001b[1;32m    195\u001b[0m \u001b[0;34m\u001b[0m\u001b[0m\n\u001b[1;32m    196\u001b[0m         \u001b[0;31m# Loop through the validation data\u001b[0m\u001b[0;34m\u001b[0m\u001b[0;34m\u001b[0m\u001b[0;34m\u001b[0m\u001b[0m\n\u001b[0;32m--> 197\u001b[0;31m         \u001b[0;32mfor\u001b[0m \u001b[0mj\u001b[0m\u001b[0;34m,\u001b[0m \u001b[0mdata\u001b[0m \u001b[0;32min\u001b[0m \u001b[0menumerate\u001b[0m\u001b[0;34m(\u001b[0m\u001b[0mtest_loader\u001b[0m\u001b[0;34m)\u001b[0m\u001b[0;34m:\u001b[0m\u001b[0;34m\u001b[0m\u001b[0;34m\u001b[0m\u001b[0m\n\u001b[0m\u001b[1;32m    198\u001b[0m \u001b[0;34m\u001b[0m\u001b[0m\n\u001b[1;32m    199\u001b[0m           \u001b[0;31m# No need to calculate gradients for validation set\u001b[0m\u001b[0;34m\u001b[0m\u001b[0;34m\u001b[0m\u001b[0;34m\u001b[0m\u001b[0m\n",
            "\u001b[0;32m/usr/local/lib/python3.6/dist-packages/torch/utils/data/dataloader.py\u001b[0m in \u001b[0;36m__next__\u001b[0;34m(self)\u001b[0m\n\u001b[1;32m    433\u001b[0m         \u001b[0;32mif\u001b[0m \u001b[0mself\u001b[0m\u001b[0;34m.\u001b[0m\u001b[0m_sampler_iter\u001b[0m \u001b[0;32mis\u001b[0m \u001b[0;32mNone\u001b[0m\u001b[0;34m:\u001b[0m\u001b[0;34m\u001b[0m\u001b[0;34m\u001b[0m\u001b[0m\n\u001b[1;32m    434\u001b[0m             \u001b[0mself\u001b[0m\u001b[0;34m.\u001b[0m\u001b[0m_reset\u001b[0m\u001b[0;34m(\u001b[0m\u001b[0;34m)\u001b[0m\u001b[0;34m\u001b[0m\u001b[0;34m\u001b[0m\u001b[0m\n\u001b[0;32m--> 435\u001b[0;31m         \u001b[0mdata\u001b[0m \u001b[0;34m=\u001b[0m \u001b[0mself\u001b[0m\u001b[0;34m.\u001b[0m\u001b[0m_next_data\u001b[0m\u001b[0;34m(\u001b[0m\u001b[0;34m)\u001b[0m\u001b[0;34m\u001b[0m\u001b[0;34m\u001b[0m\u001b[0m\n\u001b[0m\u001b[1;32m    436\u001b[0m         \u001b[0mself\u001b[0m\u001b[0;34m.\u001b[0m\u001b[0m_num_yielded\u001b[0m \u001b[0;34m+=\u001b[0m \u001b[0;36m1\u001b[0m\u001b[0;34m\u001b[0m\u001b[0;34m\u001b[0m\u001b[0m\n\u001b[1;32m    437\u001b[0m         \u001b[0;32mif\u001b[0m \u001b[0mself\u001b[0m\u001b[0;34m.\u001b[0m\u001b[0m_dataset_kind\u001b[0m \u001b[0;34m==\u001b[0m \u001b[0m_DatasetKind\u001b[0m\u001b[0;34m.\u001b[0m\u001b[0mIterable\u001b[0m \u001b[0;32mand\u001b[0m\u001b[0;31m \u001b[0m\u001b[0;31m\\\u001b[0m\u001b[0;34m\u001b[0m\u001b[0;34m\u001b[0m\u001b[0m\n",
            "\u001b[0;32m/usr/local/lib/python3.6/dist-packages/torch/utils/data/dataloader.py\u001b[0m in \u001b[0;36m_next_data\u001b[0;34m(self)\u001b[0m\n\u001b[1;32m   1055\u001b[0m                 \u001b[0;31m# no valid `self._rcvd_idx` is found (i.e., didn't break)\u001b[0m\u001b[0;34m\u001b[0m\u001b[0;34m\u001b[0m\u001b[0;34m\u001b[0m\u001b[0m\n\u001b[1;32m   1056\u001b[0m                 \u001b[0;32mif\u001b[0m \u001b[0;32mnot\u001b[0m \u001b[0mself\u001b[0m\u001b[0;34m.\u001b[0m\u001b[0m_persistent_workers\u001b[0m\u001b[0;34m:\u001b[0m\u001b[0;34m\u001b[0m\u001b[0;34m\u001b[0m\u001b[0m\n\u001b[0;32m-> 1057\u001b[0;31m                     \u001b[0mself\u001b[0m\u001b[0;34m.\u001b[0m\u001b[0m_shutdown_workers\u001b[0m\u001b[0;34m(\u001b[0m\u001b[0;34m)\u001b[0m\u001b[0;34m\u001b[0m\u001b[0;34m\u001b[0m\u001b[0m\n\u001b[0m\u001b[1;32m   1058\u001b[0m                 \u001b[0;32mraise\u001b[0m \u001b[0mStopIteration\u001b[0m\u001b[0;34m\u001b[0m\u001b[0;34m\u001b[0m\u001b[0m\n\u001b[1;32m   1059\u001b[0m \u001b[0;34m\u001b[0m\u001b[0m\n",
            "\u001b[0;32m/usr/local/lib/python3.6/dist-packages/torch/utils/data/dataloader.py\u001b[0m in \u001b[0;36m_shutdown_workers\u001b[0;34m(self)\u001b[0m\n\u001b[1;32m   1175\u001b[0m                         \u001b[0mself\u001b[0m\u001b[0;34m.\u001b[0m\u001b[0m_mark_worker_as_unavailable\u001b[0m\u001b[0;34m(\u001b[0m\u001b[0mworker_id\u001b[0m\u001b[0;34m,\u001b[0m \u001b[0mshutdown\u001b[0m\u001b[0;34m=\u001b[0m\u001b[0;32mTrue\u001b[0m\u001b[0;34m)\u001b[0m\u001b[0;34m\u001b[0m\u001b[0;34m\u001b[0m\u001b[0m\n\u001b[1;32m   1176\u001b[0m                 \u001b[0;32mfor\u001b[0m \u001b[0mw\u001b[0m \u001b[0;32min\u001b[0m \u001b[0mself\u001b[0m\u001b[0;34m.\u001b[0m\u001b[0m_workers\u001b[0m\u001b[0;34m:\u001b[0m\u001b[0;34m\u001b[0m\u001b[0;34m\u001b[0m\u001b[0m\n\u001b[0;32m-> 1177\u001b[0;31m                     \u001b[0mw\u001b[0m\u001b[0;34m.\u001b[0m\u001b[0mjoin\u001b[0m\u001b[0;34m(\u001b[0m\u001b[0mtimeout\u001b[0m\u001b[0;34m=\u001b[0m\u001b[0m_utils\u001b[0m\u001b[0;34m.\u001b[0m\u001b[0mMP_STATUS_CHECK_INTERVAL\u001b[0m\u001b[0;34m)\u001b[0m\u001b[0;34m\u001b[0m\u001b[0;34m\u001b[0m\u001b[0m\n\u001b[0m\u001b[1;32m   1178\u001b[0m                     \u001b[0;32mif\u001b[0m \u001b[0mw\u001b[0m\u001b[0;34m.\u001b[0m\u001b[0mis_alive\u001b[0m\u001b[0;34m(\u001b[0m\u001b[0;34m)\u001b[0m\u001b[0;34m:\u001b[0m\u001b[0;34m\u001b[0m\u001b[0;34m\u001b[0m\u001b[0m\n\u001b[1;32m   1179\u001b[0m                         \u001b[0;31m# Existing mechanisms try to make the workers exit\u001b[0m\u001b[0;34m\u001b[0m\u001b[0;34m\u001b[0m\u001b[0;34m\u001b[0m\u001b[0m\n",
            "\u001b[0;32m/usr/lib/python3.6/multiprocessing/process.py\u001b[0m in \u001b[0;36mjoin\u001b[0;34m(self, timeout)\u001b[0m\n\u001b[1;32m    122\u001b[0m         \u001b[0;32massert\u001b[0m \u001b[0mself\u001b[0m\u001b[0;34m.\u001b[0m\u001b[0m_parent_pid\u001b[0m \u001b[0;34m==\u001b[0m \u001b[0mos\u001b[0m\u001b[0;34m.\u001b[0m\u001b[0mgetpid\u001b[0m\u001b[0;34m(\u001b[0m\u001b[0;34m)\u001b[0m\u001b[0;34m,\u001b[0m \u001b[0;34m'can only join a child process'\u001b[0m\u001b[0;34m\u001b[0m\u001b[0;34m\u001b[0m\u001b[0m\n\u001b[1;32m    123\u001b[0m         \u001b[0;32massert\u001b[0m \u001b[0mself\u001b[0m\u001b[0;34m.\u001b[0m\u001b[0m_popen\u001b[0m \u001b[0;32mis\u001b[0m \u001b[0;32mnot\u001b[0m \u001b[0;32mNone\u001b[0m\u001b[0;34m,\u001b[0m \u001b[0;34m'can only join a started process'\u001b[0m\u001b[0;34m\u001b[0m\u001b[0;34m\u001b[0m\u001b[0m\n\u001b[0;32m--> 124\u001b[0;31m         \u001b[0mres\u001b[0m \u001b[0;34m=\u001b[0m \u001b[0mself\u001b[0m\u001b[0;34m.\u001b[0m\u001b[0m_popen\u001b[0m\u001b[0;34m.\u001b[0m\u001b[0mwait\u001b[0m\u001b[0;34m(\u001b[0m\u001b[0mtimeout\u001b[0m\u001b[0;34m)\u001b[0m\u001b[0;34m\u001b[0m\u001b[0;34m\u001b[0m\u001b[0m\n\u001b[0m\u001b[1;32m    125\u001b[0m         \u001b[0;32mif\u001b[0m \u001b[0mres\u001b[0m \u001b[0;32mis\u001b[0m \u001b[0;32mnot\u001b[0m \u001b[0;32mNone\u001b[0m\u001b[0;34m:\u001b[0m\u001b[0;34m\u001b[0m\u001b[0;34m\u001b[0m\u001b[0m\n\u001b[1;32m    126\u001b[0m             \u001b[0m_children\u001b[0m\u001b[0;34m.\u001b[0m\u001b[0mdiscard\u001b[0m\u001b[0;34m(\u001b[0m\u001b[0mself\u001b[0m\u001b[0;34m)\u001b[0m\u001b[0;34m\u001b[0m\u001b[0;34m\u001b[0m\u001b[0m\n",
            "\u001b[0;32m/usr/lib/python3.6/multiprocessing/popen_fork.py\u001b[0m in \u001b[0;36mwait\u001b[0;34m(self, timeout)\u001b[0m\n\u001b[1;32m     45\u001b[0m             \u001b[0;32mif\u001b[0m \u001b[0mtimeout\u001b[0m \u001b[0;32mis\u001b[0m \u001b[0;32mnot\u001b[0m \u001b[0;32mNone\u001b[0m\u001b[0;34m:\u001b[0m\u001b[0;34m\u001b[0m\u001b[0;34m\u001b[0m\u001b[0m\n\u001b[1;32m     46\u001b[0m                 \u001b[0;32mfrom\u001b[0m \u001b[0mmultiprocessing\u001b[0m\u001b[0;34m.\u001b[0m\u001b[0mconnection\u001b[0m \u001b[0;32mimport\u001b[0m \u001b[0mwait\u001b[0m\u001b[0;34m\u001b[0m\u001b[0;34m\u001b[0m\u001b[0m\n\u001b[0;32m---> 47\u001b[0;31m                 \u001b[0;32mif\u001b[0m \u001b[0;32mnot\u001b[0m \u001b[0mwait\u001b[0m\u001b[0;34m(\u001b[0m\u001b[0;34m[\u001b[0m\u001b[0mself\u001b[0m\u001b[0;34m.\u001b[0m\u001b[0msentinel\u001b[0m\u001b[0;34m]\u001b[0m\u001b[0;34m,\u001b[0m \u001b[0mtimeout\u001b[0m\u001b[0;34m)\u001b[0m\u001b[0;34m:\u001b[0m\u001b[0;34m\u001b[0m\u001b[0;34m\u001b[0m\u001b[0m\n\u001b[0m\u001b[1;32m     48\u001b[0m                     \u001b[0;32mreturn\u001b[0m \u001b[0;32mNone\u001b[0m\u001b[0;34m\u001b[0m\u001b[0;34m\u001b[0m\u001b[0m\n\u001b[1;32m     49\u001b[0m             \u001b[0;31m# This shouldn't block if wait() returned successfully.\u001b[0m\u001b[0;34m\u001b[0m\u001b[0;34m\u001b[0m\u001b[0;34m\u001b[0m\u001b[0m\n",
            "\u001b[0;32m/usr/lib/python3.6/multiprocessing/connection.py\u001b[0m in \u001b[0;36mwait\u001b[0;34m(object_list, timeout)\u001b[0m\n\u001b[1;32m    909\u001b[0m \u001b[0;34m\u001b[0m\u001b[0m\n\u001b[1;32m    910\u001b[0m             \u001b[0;32mwhile\u001b[0m \u001b[0;32mTrue\u001b[0m\u001b[0;34m:\u001b[0m\u001b[0;34m\u001b[0m\u001b[0;34m\u001b[0m\u001b[0m\n\u001b[0;32m--> 911\u001b[0;31m                 \u001b[0mready\u001b[0m \u001b[0;34m=\u001b[0m \u001b[0mselector\u001b[0m\u001b[0;34m.\u001b[0m\u001b[0mselect\u001b[0m\u001b[0;34m(\u001b[0m\u001b[0mtimeout\u001b[0m\u001b[0;34m)\u001b[0m\u001b[0;34m\u001b[0m\u001b[0;34m\u001b[0m\u001b[0m\n\u001b[0m\u001b[1;32m    912\u001b[0m                 \u001b[0;32mif\u001b[0m \u001b[0mready\u001b[0m\u001b[0;34m:\u001b[0m\u001b[0;34m\u001b[0m\u001b[0;34m\u001b[0m\u001b[0m\n\u001b[1;32m    913\u001b[0m                     \u001b[0;32mreturn\u001b[0m \u001b[0;34m[\u001b[0m\u001b[0mkey\u001b[0m\u001b[0;34m.\u001b[0m\u001b[0mfileobj\u001b[0m \u001b[0;32mfor\u001b[0m \u001b[0;34m(\u001b[0m\u001b[0mkey\u001b[0m\u001b[0;34m,\u001b[0m \u001b[0mevents\u001b[0m\u001b[0;34m)\u001b[0m \u001b[0;32min\u001b[0m \u001b[0mready\u001b[0m\u001b[0;34m]\u001b[0m\u001b[0;34m\u001b[0m\u001b[0;34m\u001b[0m\u001b[0m\n",
            "\u001b[0;32m/usr/lib/python3.6/selectors.py\u001b[0m in \u001b[0;36mselect\u001b[0;34m(self, timeout)\u001b[0m\n\u001b[1;32m    374\u001b[0m             \u001b[0mready\u001b[0m \u001b[0;34m=\u001b[0m \u001b[0;34m[\u001b[0m\u001b[0;34m]\u001b[0m\u001b[0;34m\u001b[0m\u001b[0;34m\u001b[0m\u001b[0m\n\u001b[1;32m    375\u001b[0m             \u001b[0;32mtry\u001b[0m\u001b[0;34m:\u001b[0m\u001b[0;34m\u001b[0m\u001b[0;34m\u001b[0m\u001b[0m\n\u001b[0;32m--> 376\u001b[0;31m                 \u001b[0mfd_event_list\u001b[0m \u001b[0;34m=\u001b[0m \u001b[0mself\u001b[0m\u001b[0;34m.\u001b[0m\u001b[0m_poll\u001b[0m\u001b[0;34m.\u001b[0m\u001b[0mpoll\u001b[0m\u001b[0;34m(\u001b[0m\u001b[0mtimeout\u001b[0m\u001b[0;34m)\u001b[0m\u001b[0;34m\u001b[0m\u001b[0;34m\u001b[0m\u001b[0m\n\u001b[0m\u001b[1;32m    377\u001b[0m             \u001b[0;32mexcept\u001b[0m \u001b[0mInterruptedError\u001b[0m\u001b[0;34m:\u001b[0m\u001b[0;34m\u001b[0m\u001b[0;34m\u001b[0m\u001b[0m\n\u001b[1;32m    378\u001b[0m                 \u001b[0;32mreturn\u001b[0m \u001b[0mready\u001b[0m\u001b[0;34m\u001b[0m\u001b[0;34m\u001b[0m\u001b[0m\n",
            "\u001b[0;31mKeyboardInterrupt\u001b[0m: "
          ]
        }
      ]
    },
    {
      "cell_type": "code",
      "metadata": {
        "colab": {
          "base_uri": "https://localhost:8080/",
          "height": 241
        },
        "id": "AI_sI7geoGnz",
        "outputId": "c05684f1-3936-4765-cb05-87e9b53e13c3"
      },
      "source": [
        "plot_image(plot_noise[:5])"
      ],
      "execution_count": null,
      "outputs": [
        {
          "output_type": "display_data",
          "data": {
            "image/png": "[encoded data removed]",
            "text/plain": [
              "<Figure size 1440x720 with 5 Axes>"
            ]
          },
          "metadata": {
            "tags": [],
            "needs_background": "light"
          }
        }
      ]
    },
    {
      "cell_type": "code",
      "metadata": {
        "colab": {
          "base_uri": "https://localhost:8080/",
          "height": 241
        },
        "id": "YYFsH7vMtzpB",
        "outputId": "d2ea7f33-21c6-40a6-fe95-96c5e8d61e89"
      },
      "source": [
        "plot_image(plot_clean[:5])"
      ],
      "execution_count": null,
      "outputs": [
        {
          "output_type": "display_data",
          "data": {
            "image/png": "[encoded data removed]",
            "text/plain": [
              "<Figure size 1440x720 with 5 Axes>"
            ]
          },
          "metadata": {
            "tags": [],
            "needs_background": "light"
          }
        }
      ]
    },
    {
      "cell_type": "code",
      "metadata": {
        "colab": {
          "base_uri": "https://localhost:8080/",
          "height": 241
        },
        "id": "r0v2lbEit6VW",
        "outputId": "efe48546-1921-4e66-b2cf-ad0fe1fd7e1d"
      },
      "source": [
        "plot_image(plot_preds[:5])"
      ],
      "execution_count": null,
      "outputs": [
        {
          "output_type": "display_data",
          "data": {
            "image/png": "[encoded data removed]",
            "text/plain": [
              "<Figure size 1440x720 with 5 Axes>"
            ]
          },
          "metadata": {
            "tags": [],
            "needs_background": "light"
          }
        }
      ]
    },
    {
      "cell_type": "code",
      "metadata": {
        "id": "ypY0zG0HEPI6"
      },
      "source": [
        "def get_grid(archs, learning_rates, decays, momentums, batch_size = 64,\n",
        "             checkpoints_dir = \"/content/drive/MyDrive/2_checkpoints\"):\n",
        "  '''\n",
        "  Get a random set of hyper-parameter combinations\n",
        "  to test with for a given number of layers. \n",
        "  '''\n",
        "  \n",
        "  # Store the grid and results in this dictionary\n",
        "  experiment = {\n",
        "      \n",
        "      'params': [], \n",
        "      'best_results': []\n",
        "\n",
        "  }\n",
        "\n",
        "  # Create experiment ID\n",
        "  experiment_id = len([name for name in os.listdir(checkpoints_dir) if os.path.isfile(os.path.join(checkpoints_dir, name))]) + 1\n",
        "  print(experiment_id)\n",
        "\n",
        "  # This will generate the list of parameter combinations to search\n",
        "  i = 0\n",
        "  for arch in archs:\n",
        "    for lr in learning_rates: \n",
        "      for d in decays: \n",
        "        for m in momentums:   \n",
        "          config = {\n",
        "                    'lr': lr,\n",
        "                    'batch_size': batch_size,\n",
        "                    'weight_decay': d,\n",
        "                    'encoder_units': arch,\n",
        "                    'decoder_units': list(reversed(arch)),\n",
        "                    'momentum': m,\n",
        "                    'done': 0,\n",
        "                    'model_num': i}\n",
        "          i += 1\n",
        "          experiment['params'].append(config)\n",
        "\n",
        "  # This is the experiment path\n",
        "  path = os.path.join(checkpoints_dir, str(experiment_id))\n",
        "\n",
        "  # We write the experiment dictionary as a .json file\n",
        "  with open(path, 'w', encoding='utf-8') as f:\n",
        "    json.dump(experiment, f, ensure_ascii=False, indent=4)"
      ],
      "execution_count": 14,
      "outputs": []
    },
    {
      "cell_type": "code",
      "metadata": {
        "id": "dakzMUrjvBJR",
        "colab": {
          "base_uri": "https://localhost:8080/"
        },
        "outputId": "ca538081-2e47-4191-8bdd-3b5960786f6d"
      },
      "source": [
        "encoder_archs = [[512, 256, 128, 64, 32, 16], \n",
        "           [512, 256, 128, 64, 32], \n",
        "           [512, 256, 128, 64],\n",
        "           [512, 256, 128],\n",
        "           [512, 256],\n",
        "           [256, 128, 64, 32, 16], \n",
        "           [256, 128, 64, 32],\n",
        "           [256, 128, 64], \n",
        "           [256, 128],\n",
        "           [128, 64, 32, 16], \n",
        "           [128, 64, 32],\n",
        "           [64, 32, 16], \n",
        "           [64, 32], \n",
        "           [32, 16],\n",
        "           [32]]\n",
        "\n",
        "# 15-20\n",
        "archs = [[16], [32], [50], [64], [100], [128], [150], [200], [256], [300], [350], [400], [450], [512], [550], [600]]\n",
        "\n",
        "# decoder_archs = [[512, 256, 128, 64, 32, 16], \n",
        "#            [512, 256, 128, 64, 32], \n",
        "#            [512, 256, 128, 64],\n",
        "#            [512, 256, 128],\n",
        "#            [512, 256],\n",
        "#            [256, 128, 64, 32, 16], \n",
        "#            [256, 128, 64, 32],\n",
        "#            [256, 128, 64], \n",
        "#            [256, 128],\n",
        "#            [128, 64, 32, 16], \n",
        "#            [128, 64, 32],\n",
        "#            [64, 32, 16], \n",
        "#            [64, 32], \n",
        "#            [32, 16],\n",
        "#            [32]]\n",
        "\n",
        "learning_rates = [0.1, 0.2, 0.3, 0.4, 0.5, 0.6, 0.7, 0.8, 0.9]\n",
        "decays = [0, 0.001, 0.01, 0.1]\n",
        "momentums = [0.1, 0.2, 0.3, 0.4, 0.5, 0.6, 0.7, 0.8, 0.9]\n",
        "\n",
        "batch_sizes = [64, 128, 256, 512, 1024]\n",
        "\n",
        "get_grid([[550]], [0.9], [0.01], [0.9], batch_size = 128, checkpoints_dir = \"/content/drive/MyDrive/2_checkpoints\")"
      ],
      "execution_count": 37,
      "outputs": [
        {
          "output_type": "stream",
          "text": [
            "6\n"
          ],
          "name": "stdout"
        }
      ]
    },
    {
      "cell_type": "code",
      "metadata": {
        "id": "xzLj-RlKELDr"
      },
      "source": [
        "def run_grid_search(experiment_id, checkpoints_dir = \"/content/drive/MyDrive/2_checkpoints\"):\n",
        "  '''\n",
        "  Run the grid search\n",
        "  '''\n",
        "  # First we load the experiment dictionary\n",
        "  # Create the complete path\n",
        "  path = os.path.join(checkpoints_dir, str(experiment_id))\n",
        "  \n",
        "  # Load the experiment data file\n",
        "  with open(path, 'r', encoding='utf-8') as f:\n",
        "    experiment = json.load(f)\n",
        "\n",
        "  # Loop through experiments data file\n",
        "  for i, config in enumerate(experiment['params']):\n",
        "    \n",
        "    # Print progress report\n",
        "    print(\"This is combination {} of experiment {}\".format(i, experiment_id))\n",
        "\n",
        "    # Run experiments only for those parameter combinations which have not been tested\n",
        "    if config['done'] == 0:\n",
        "      print(config)\n",
        "      results, best_results = train(config, epochs=20)\n",
        "      experiment['best_results'].append(best_results) \n",
        "      config['done'] = 1\n",
        "    \n",
        "    # We update the .json dictionary every 2 iterations\n",
        "    if i%2 == 0:\n",
        "      with open(path, 'w', encoding='utf-8') as f:\n",
        "        json.dump(experiment, f, ensure_ascii=False, indent=4)"
      ],
      "execution_count": 21,
      "outputs": []
    },
    {
      "cell_type": "code",
      "metadata": {
        "id": "q5NRL8fMDgGQ",
        "colab": {
          "base_uri": "https://localhost:8080/",
          "height": 782
        },
        "outputId": "9620fc6d-6d02-4bd8-af14-5be812e5a0d6"
      },
      "source": [
        "run_grid_search(experiment_id = 6, checkpoints_dir = \"/content/drive/MyDrive/2_checkpoints\")"
      ],
      "execution_count": 38,
      "outputs": [
        {
          "output_type": "stream",
          "text": [
            "This is combination 0 of experiment 6\n",
            "{'lr': 0.9, 'batch_size': 128, 'weight_decay': 0.01, 'encoder_units': [550], 'decoder_units': [550], 'momentum': 0.9, 'done': 0, 'model_num': 0}\n",
            "Epoch:0 | Training Loss:0.11715985361192781 | Validation Loss: 0.10613648998963682\n",
            "\n",
            "Epoch:1 | Training Loss:0.10646237780862271 | Validation Loss: 0.10528352064422414\n",
            "\n",
            "Epoch:2 | Training Loss:0.10646486001164675 | Validation Loss: 0.10628569927773898\n",
            "\n",
            "Epoch:3 | Training Loss:0.10652590077568981 | Validation Loss: 0.10607895707782311\n",
            "\n",
            "Epoch:4 | Training Loss:0.10646354348293499 | Validation Loss: 0.10692810625592365\n",
            "\n",
            "Epoch:5 | Training Loss:0.10646201802024455 | Validation Loss: 0.10680621060766751\n",
            "\n",
            "Epoch:6 | Training Loss:0.10645985020312673 | Validation Loss: 0.10603882183757009\n",
            "\n",
            "Epoch:7 | Training Loss:0.10647610061839699 | Validation Loss: 0.1052249080584019\n",
            "\n",
            "Epoch:8 | Training Loss:0.10649866756917571 | Validation Loss: 0.10609016888126542\n",
            "\n",
            "Epoch:9 | Training Loss:0.10653221723176777 | Validation Loss: 0.10596988076650643\n",
            "\n",
            "Epoch:10 | Training Loss:0.10647133184966248 | Validation Loss: 0.1054245587202567\n",
            "\n",
            "Epoch:11 | Training Loss:0.10650715698946768 | Validation Loss: 0.10660936372189582\n",
            "\n",
            "Epoch:12 | Training Loss:0.10650164090684736 | Validation Loss: 0.10594345280263998\n",
            "\n",
            "Epoch:13 | Training Loss:0.10650666207392841 | Validation Loss: 0.10624366781756847\n",
            "\n",
            "Epoch:14 | Training Loss:0.1064950394223748 | Validation Loss: 0.1058589060661159\n",
            "\n",
            "Epoch:15 | Training Loss:0.10650754089294466 | Validation Loss: 0.1066116563315633\n",
            "\n",
            "Epoch:16 | Training Loss:0.10647431606931218 | Validation Loss: 0.1072913392246524\n",
            "\n",
            "Epoch:17 | Training Loss:0.1065010402216586 | Validation Loss: 0.1063475776699525\n",
            "\n",
            "Epoch:18 | Training Loss:0.10651022896393021 | Validation Loss: 0.1060317560464521\n",
            "\n",
            "Epoch:19 | Training Loss:0.10648805892734385 | Validation Loss: 0.10613930385701265\n",
            "\n",
            "Done training...\n",
            "[7, 0.1052249080584019, 0.10647610061839699]\n"
          ],
          "name": "stdout"
        },
        {
          "output_type": "display_data",
          "data": {
            "text/plain": [
              "<Figure size 432x288 with 0 Axes>"
            ]
          },
          "metadata": {
            "tags": []
          }
        }
      ]
    },
    {
      "cell_type": "code",
      "metadata": {
        "id": "R4wvVcZPDI-b",
        "colab": {
          "base_uri": "https://localhost:8080/"
        },
        "outputId": "44890f07-f4fc-4f94-cbf2-617158661d7b"
      },
      "source": [
        "import pprint\n",
        "\n",
        "checkpoints_dir = \"/content/drive/MyDrive/2_checkpoints\"\n",
        "\n",
        "path_to_results = os.path.join(checkpoints_dir, '5')\n",
        "\n",
        "# Load the experiment data file\n",
        "with open(path_to_results, 'r', encoding='utf-8') as f:\n",
        "  experiment = json.load(f)\n",
        "\n",
        "#pprint.pprint(experiment, width=100)\n",
        "\n",
        "\n",
        "results_dir = \"/content/drive/MyDrive/2_results\"\n",
        "# This is the experiment path\n",
        "path_to_save = os.path.join(results_dir, 'best_hyperparameters')\n",
        "\n",
        "# Load the experiment data file\n",
        "with open(path_to_save, 'r', encoding='utf-8') as f:\n",
        "  result = json.load(f)\n",
        "\n",
        "# result['best_results'].pop()\n",
        "# pprint.pprint(result, width=100)\n",
        "\n",
        "\n",
        "# Loop through experiments data file\n",
        "for i, config in enumerate(experiment['best_results']):\n",
        "\n",
        "  mini_val_loss = float('inf')\n",
        "  mini_epochs = None\n",
        "  mini_ind = None\n",
        "  if config[1] < mini_val_loss:\n",
        "    # save the result with parameters\n",
        "    mini_ind = i\n",
        "    mini_epochs = config[0]\n",
        "    mini_val_loss = config[1]\n",
        "\n",
        "temp = experiment['params'][mini_ind]\n",
        "temp['best_val_loss'] = mini_val_loss\n",
        "temp['epochs'] = mini_epochs\n",
        "result['best_results'].append(temp)\n",
        "\n",
        "# We write the experiment dictionary as a .json file\n",
        "with open(path_to_save, 'w', encoding='utf-8') as f:\n",
        "  json.dump(result, f, ensure_ascii=False, indent=4)\n",
        "\n",
        "pprint.pprint(result, width=100)"
      ],
      "execution_count": 33,
      "outputs": [
        {
          "output_type": "stream",
          "text": [
            "{'best_results': [{'batch_size': 64,\n",
            "                   'best_val_loss': 0.04762743705302287,\n",
            "                   'decoder_units': [32],\n",
            "                   'done': 1,\n",
            "                   'encoder_units': [32],\n",
            "                   'epochs': 19,\n",
            "                   'lr': 0.1,\n",
            "                   'model_num': 14,\n",
            "                   'momentum': 0.1,\n",
            "                   'weight_decay': 0},\n",
            "                  {'batch_size': 64,\n",
            "                   'best_val_loss': 0.10558950416981035,\n",
            "                   'decoder_units': [550],\n",
            "                   'done': 1,\n",
            "                   'encoder_units': [550],\n",
            "                   'epochs': 12,\n",
            "                   'lr': 0.1,\n",
            "                   'model_num': 2,\n",
            "                   'momentum': 0.1,\n",
            "                   'weight_decay': 0.01},\n",
            "                  {'batch_size': 64,\n",
            "                   'best_val_loss': 0.105453260242939,\n",
            "                   'decoder_units': [550],\n",
            "                   'done': 1,\n",
            "                   'encoder_units': [550],\n",
            "                   'epochs': 12,\n",
            "                   'lr': 0.9,\n",
            "                   'model_num': 8,\n",
            "                   'momentum': 0.1,\n",
            "                   'weight_decay': 0.01},\n",
            "                  {'batch_size': 64,\n",
            "                   'best_val_loss': 0.1047250967306696,\n",
            "                   'decoder_units': [550],\n",
            "                   'done': 1,\n",
            "                   'encoder_units': [550],\n",
            "                   'epochs': 1,\n",
            "                   'lr': 0.9,\n",
            "                   'model_num': 8,\n",
            "                   'momentum': 0.9,\n",
            "                   'weight_decay': 0.01}]}\n"
          ],
          "name": "stdout"
        }
      ]
    },
    {
      "cell_type": "code",
      "metadata": {
        "colab": {
          "base_uri": "https://localhost:8080/"
        },
        "id": "Jm3rSJCaFW5M",
        "outputId": "339766bc-eab6-4f78-fd7f-5062adf23758"
      },
      "source": [
        "results_dir = \"/content/drive/MyDrive/2_results\"\n",
        "# This is the experiment path\n",
        "path_to_save = os.path.join(results_dir, 'best_hyperparameters')\n",
        "\n",
        "# Load the experiment data file\n",
        "with open(path_to_save, 'r', encoding='utf-8') as f:\n",
        "  result = json.load(f)\n",
        "\n",
        "# result['best_results'].pop()\n",
        "pprint.pprint(result, width=100)"
      ],
      "execution_count": 27,
      "outputs": [
        {
          "output_type": "stream",
          "text": [
            "{'best_results': [{'batch_size': 64,\n",
            "                   'best_val_loss': 0.04762743705302287,\n",
            "                   'decoder_units': [32],\n",
            "                   'done': 1,\n",
            "                   'encoder_units': [32],\n",
            "                   'epochs': 19,\n",
            "                   'lr': 0.1,\n",
            "                   'model_num': 14,\n",
            "                   'momentum': 0.1,\n",
            "                   'weight_decay': 0},\n",
            "                  {'batch_size': 64,\n",
            "                   'best_val_loss': 0.10558950416981035,\n",
            "                   'decoder_units': [550],\n",
            "                   'done': 1,\n",
            "                   'encoder_units': [550],\n",
            "                   'epochs': 12,\n",
            "                   'lr': 0.1,\n",
            "                   'model_num': 2,\n",
            "                   'momentum': 0.1,\n",
            "                   'weight_decay': 0.01}]}\n"
          ],
          "name": "stdout"
        }
      ]
    },
    {
      "cell_type": "markdown",
      "metadata": {
        "id": "vfPcB6flfH5t"
      },
      "source": [
        "{'best_results': [{'batch_size': 64,\n",
        "                   'best_val_loss': 0.04762743705302287,\n",
        "                   'decoder_units': [32],\n",
        "                   'done': 1,\n",
        "                   'encoder_units': [32],\n",
        "                   'epochs': 19,\n",
        "                   'lr': 0.1,\n",
        "                   'model_num': 14,\n",
        "                   'momentum': 0.1,\n",
        "                   'weight_decay': 0}]}"
      ]
    },
    {
      "cell_type": "code",
      "metadata": {
        "id": "ScN0GSpPxug5"
      },
      "source": [
        "# Store the grid and results in this dictionary\n",
        "results = {\n",
        "  'best_results': []\n",
        "}\n",
        "\n",
        "# This is the experiment path\n",
        "path_to_save = os.path.join(checkpoints_dir, 'best_hyperparameters')\n",
        "\n",
        "# We write the experiment dictionary as a .json file\n",
        "with open(path_to_save, 'w', encoding='utf-8') as f:\n",
        "  json.dump(results, f, ensure_ascii=False, indent=4)"
      ],
      "execution_count": 81,
      "outputs": []
    }
  ]
}