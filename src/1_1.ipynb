{
  "nbformat": 4,
  "nbformat_minor": 0,
  "metadata": {
    "kernelspec": {
      "display_name": "Python 3",
      "language": "python",
      "name": "python3"
    },
    "language_info": {
      "codemirror_mode": {
        "name": "ipython",
        "version": 3
      },
      "file_extension": ".py",
      "mimetype": "text/x-python",
      "name": "python",
      "nbconvert_exporter": "python",
      "pygments_lexer": "ipython3",
      "version": "3.8.0"
    },
    "colab": {
      "name": "mlp.ipynb",
      "provenance": [],
      "collapsed_sections": []
    },
    "accelerator": "GPU"
  },
  "cells": [
    {
      "cell_type": "code",
      "metadata": {
        "colab": {
          "base_uri": "https://localhost:8080/"
        },
        "id": "2WDdC5E0llYu",
        "outputId": "5468c0cb-1a7e-4675-e771-059a3e5c3dc0"
      },
      "source": [
        "from google.colab import drive\n",
        "drive.mount('/content/drive')"
      ],
      "execution_count": null,
      "outputs": [
        {
          "output_type": "stream",
          "text": [
            "Drive already mounted at /content/drive; to attempt to forcibly remount, call drive.mount(\"/content/drive\", force_remount=True).\n"
          ],
          "name": "stdout"
        }
      ]
    },
    {
      "cell_type": "code",
      "metadata": {
        "colab": {
          "base_uri": "https://localhost:8080/"
        },
        "id": "-XQHea_TnP4S",
        "outputId": "e832ce81-fad4-48e1-ba04-0d06be1a3bc8"
      },
      "source": [
        "# Install idx2numpy package for extracting data\n",
        "!pip install idx2numpy ray"
      ],
      "execution_count": null,
      "outputs": [
        {
          "output_type": "stream",
          "text": [
            "Requirement already satisfied: idx2numpy in /usr/local/lib/python3.6/dist-packages (1.2.3)\n",
            "Requirement already satisfied: ray in /usr/local/lib/python3.6/dist-packages (1.0.1.post1)\n",
            "Requirement already satisfied: numpy in /usr/local/lib/python3.6/dist-packages (from idx2numpy) (1.18.5)\n",
            "Requirement already satisfied: six in /usr/local/lib/python3.6/dist-packages (from idx2numpy) (1.15.0)\n",
            "Requirement already satisfied: py-spy>=0.2.0 in /usr/local/lib/python3.6/dist-packages (from ray) (0.3.3)\n",
            "Requirement already satisfied: opencensus in /usr/local/lib/python3.6/dist-packages (from ray) (0.7.11)\n",
            "Requirement already satisfied: colorful in /usr/local/lib/python3.6/dist-packages (from ray) (0.5.4)\n",
            "Requirement already satisfied: filelock in /usr/local/lib/python3.6/dist-packages (from ray) (3.0.12)\n",
            "Requirement already satisfied: msgpack<2.0.0,>=1.0.0 in /usr/local/lib/python3.6/dist-packages (from ray) (1.0.0)\n",
            "Requirement already satisfied: grpcio>=1.28.1 in /usr/local/lib/python3.6/dist-packages (from ray) (1.33.2)\n",
            "Requirement already satisfied: aiohttp-cors in /usr/local/lib/python3.6/dist-packages (from ray) (0.7.0)\n",
            "Requirement already satisfied: pyyaml in /usr/local/lib/python3.6/dist-packages (from ray) (3.13)\n",
            "Requirement already satisfied: requests in /usr/local/lib/python3.6/dist-packages (from ray) (2.23.0)\n",
            "Requirement already satisfied: redis<3.5.0,>=3.3.2 in /usr/local/lib/python3.6/dist-packages (from ray) (3.4.1)\n",
            "Requirement already satisfied: prometheus-client>=0.7.1 in /usr/local/lib/python3.6/dist-packages (from ray) (0.9.0)\n",
            "Requirement already satisfied: jsonschema in /usr/local/lib/python3.6/dist-packages (from ray) (2.6.0)\n",
            "Requirement already satisfied: gpustat in /usr/local/lib/python3.6/dist-packages (from ray) (0.6.0)\n",
            "Requirement already satisfied: aioredis in /usr/local/lib/python3.6/dist-packages (from ray) (1.3.1)\n",
            "Requirement already satisfied: click>=7.0 in /usr/local/lib/python3.6/dist-packages (from ray) (7.1.2)\n",
            "Requirement already satisfied: protobuf>=3.8.0 in /usr/local/lib/python3.6/dist-packages (from ray) (3.12.4)\n",
            "Requirement already satisfied: google in /usr/local/lib/python3.6/dist-packages (from ray) (2.0.3)\n",
            "Requirement already satisfied: colorama in /usr/local/lib/python3.6/dist-packages (from ray) (0.4.4)\n",
            "Requirement already satisfied: aiohttp in /usr/local/lib/python3.6/dist-packages (from ray) (3.7.3)\n",
            "Requirement already satisfied: opencensus-context==0.1.2 in /usr/local/lib/python3.6/dist-packages (from opencensus->ray) (0.1.2)\n",
            "Requirement already satisfied: google-api-core<2.0.0,>=1.0.0 in /usr/local/lib/python3.6/dist-packages (from opencensus->ray) (1.16.0)\n",
            "Requirement already satisfied: chardet<4,>=3.0.2 in /usr/local/lib/python3.6/dist-packages (from requests->ray) (3.0.4)\n",
            "Requirement already satisfied: idna<3,>=2.5 in /usr/local/lib/python3.6/dist-packages (from requests->ray) (2.10)\n",
            "Requirement already satisfied: certifi>=2017.4.17 in /usr/local/lib/python3.6/dist-packages (from requests->ray) (2020.11.8)\n",
            "Requirement already satisfied: urllib3!=1.25.0,!=1.25.1,<1.26,>=1.21.1 in /usr/local/lib/python3.6/dist-packages (from requests->ray) (1.24.3)\n",
            "Requirement already satisfied: blessings>=1.6 in /usr/local/lib/python3.6/dist-packages (from gpustat->ray) (1.7)\n",
            "Requirement already satisfied: nvidia-ml-py3>=7.352.0 in /usr/local/lib/python3.6/dist-packages (from gpustat->ray) (7.352.0)\n",
            "Requirement already satisfied: psutil in /usr/local/lib/python3.6/dist-packages (from gpustat->ray) (5.4.8)\n",
            "Requirement already satisfied: hiredis in /usr/local/lib/python3.6/dist-packages (from aioredis->ray) (1.1.0)\n",
            "Requirement already satisfied: async-timeout in /usr/local/lib/python3.6/dist-packages (from aioredis->ray) (3.0.1)\n",
            "Requirement already satisfied: setuptools in /usr/local/lib/python3.6/dist-packages (from protobuf>=3.8.0->ray) (50.3.2)\n",
            "Requirement already satisfied: beautifulsoup4 in /usr/local/lib/python3.6/dist-packages (from google->ray) (4.6.3)\n",
            "Requirement already satisfied: typing-extensions>=3.6.5 in /usr/local/lib/python3.6/dist-packages (from aiohttp->ray) (3.7.4.3)\n",
            "Requirement already satisfied: attrs>=17.3.0 in /usr/local/lib/python3.6/dist-packages (from aiohttp->ray) (20.3.0)\n",
            "Requirement already satisfied: idna-ssl>=1.0; python_version < \"3.7\" in /usr/local/lib/python3.6/dist-packages (from aiohttp->ray) (1.1.0)\n",
            "Requirement already satisfied: yarl<2.0,>=1.0 in /usr/local/lib/python3.6/dist-packages (from aiohttp->ray) (1.6.3)\n",
            "Requirement already satisfied: multidict<7.0,>=4.5 in /usr/local/lib/python3.6/dist-packages (from aiohttp->ray) (5.0.2)\n",
            "Requirement already satisfied: contextvars; python_version >= \"3.6\" and python_version < \"3.7\" in /usr/local/lib/python3.6/dist-packages (from opencensus-context==0.1.2->opencensus->ray) (2.4)\n",
            "Requirement already satisfied: pytz in /usr/local/lib/python3.6/dist-packages (from google-api-core<2.0.0,>=1.0.0->opencensus->ray) (2018.9)\n",
            "Requirement already satisfied: googleapis-common-protos<2.0dev,>=1.6.0 in /usr/local/lib/python3.6/dist-packages (from google-api-core<2.0.0,>=1.0.0->opencensus->ray) (1.52.0)\n",
            "Requirement already satisfied: google-auth<2.0dev,>=0.4.0 in /usr/local/lib/python3.6/dist-packages (from google-api-core<2.0.0,>=1.0.0->opencensus->ray) (1.17.2)\n",
            "Requirement already satisfied: immutables>=0.9 in /usr/local/lib/python3.6/dist-packages (from contextvars; python_version >= \"3.6\" and python_version < \"3.7\"->opencensus-context==0.1.2->opencensus->ray) (0.14)\n",
            "Requirement already satisfied: pyasn1-modules>=0.2.1 in /usr/local/lib/python3.6/dist-packages (from google-auth<2.0dev,>=0.4.0->google-api-core<2.0.0,>=1.0.0->opencensus->ray) (0.2.8)\n",
            "Requirement already satisfied: rsa<5,>=3.1.4; python_version >= \"3\" in /usr/local/lib/python3.6/dist-packages (from google-auth<2.0dev,>=0.4.0->google-api-core<2.0.0,>=1.0.0->opencensus->ray) (4.6)\n",
            "Requirement already satisfied: cachetools<5.0,>=2.0.0 in /usr/local/lib/python3.6/dist-packages (from google-auth<2.0dev,>=0.4.0->google-api-core<2.0.0,>=1.0.0->opencensus->ray) (4.1.1)\n",
            "Requirement already satisfied: pyasn1<0.5.0,>=0.4.6 in /usr/local/lib/python3.6/dist-packages (from pyasn1-modules>=0.2.1->google-auth<2.0dev,>=0.4.0->google-api-core<2.0.0,>=1.0.0->opencensus->ray) (0.4.8)\n"
          ],
          "name": "stdout"
        }
      ]
    },
    {
      "cell_type": "code",
      "metadata": {
        "id": "-9CsmgA1jCg4"
      },
      "source": [
        "# Import packages\n",
        "import os\n",
        "import gzip\n",
        "import torch\n",
        "import torchvision\n",
        "import numpy as np \n",
        "import pandas as pd\n",
        "\n",
        "import idx2numpy\n",
        "import torch.nn as nn\n",
        "import torch.optim as optim\n",
        "import torch.nn.functional as F"
      ],
      "execution_count": null,
      "outputs": []
    },
    {
      "cell_type": "code",
      "metadata": {
        "id": "s6rSib9JBEx2"
      },
      "source": [
        "# Import packages\n",
        "from ray import tune\n",
        "from ray.tune import CLIReporter\n",
        "from ray.tune.schedulers import ASHAScheduler\n",
        "from functools import partial"
      ],
      "execution_count": null,
      "outputs": []
    },
    {
      "cell_type": "code",
      "metadata": {
        "id": "RmfcKJJCjCg5"
      },
      "source": [
        "def load_one_dataset(path):\n",
        "    '''\n",
        "    Convenience function to load a single dataset\n",
        "    '''\n",
        "    f = gzip.open(path, 'rb')\n",
        "    data = torch.from_numpy(idx2numpy.convert_from_file(f))\n",
        "    f.close()\n",
        "    \n",
        "    return(data)\n",
        "\n",
        "\n",
        "def load_all_datasets(train_imgs, train_labs, test_imgs, test_labs, batch_size):\n",
        "    '''\n",
        "    Load training as well as test images here\n",
        "    '''\n",
        "    train_images = load_one_dataset(train_imgs).type(torch.float32)\n",
        "    train_labels = load_one_dataset(train_labs).type(torch.long)\n",
        "    train = list(zip(train_images, train_labels))\n",
        "\n",
        "    test_images = load_one_dataset(test_imgs).type(torch.float32)\n",
        "    test_labels = load_one_dataset(test_labs).type(torch.long)\n",
        "    test = list(zip(test_images, test_labels))\n",
        "    \n",
        "    train_loader = torch.utils.data.DataLoader(train, batch_size=batch_size, shuffle=True, num_workers=2)\n",
        "    test_loader = torch.utils.data.DataLoader(test, batch_size=batch_size, shuffle=False, num_workers=2)\n",
        "    \n",
        "    return(train_loader, test_loader)"
      ],
      "execution_count": null,
      "outputs": []
    },
    {
      "cell_type": "code",
      "metadata": {
        "id": "QxKAhnC9rieJ"
      },
      "source": [
        "class Net(nn.Module):\n",
        "  \n",
        "  def __init__(self, nb_units, input_dim, output_dim):\n",
        "    '''\n",
        "    Declare the network architecture here\n",
        "    '''\n",
        "    super(Net, self).__init__()\n",
        "    \n",
        "    # Initialize a list to store layers\n",
        "    fc = []\n",
        "\n",
        "    # Add input and output dimensions to layer list\n",
        "    self.nb_units = [input_dim] + nb_units + [output_dim]\n",
        "\n",
        "    # Now compute the total no. of layers\n",
        "    self.nb_layers = len(self.nb_units)\n",
        "\n",
        "    # Now append the hidden layers\n",
        "    for i in range(1, self.nb_layers):\n",
        "      fc.append(nn.Linear(self.nb_units[i-1], self.nb_units[i]))\n",
        "    \n",
        "    # Wrap this in a module list \n",
        "    self.fc = nn.ModuleList(fc)\n",
        "    \n",
        "  \n",
        "  def forward(self, x):\n",
        "    '''\n",
        "    Send input forward through \n",
        "    the network\n",
        "    '''\n",
        "    # Reshape 28X28 images to be 784 X 784\n",
        "    x = x.view(-1, 28*28)\n",
        "\n",
        "    # Send example through network\n",
        "    for layer in self.fc: x = F.relu(layer(x))\n",
        "    \n",
        "    return x"
      ],
      "execution_count": null,
      "outputs": []
    },
    {
      "cell_type": "code",
      "metadata": {
        "id": "mGe3H8TIjCg5"
      },
      "source": [
        "def train(config, input_dim=784, output_dim = 10, epochs=2,\n",
        "          data_dir = '/content/drive/MyDrive/data'):\n",
        "    '''\n",
        "    This is the main training loop\n",
        "    '''\n",
        "    # Set device\n",
        "    if torch.cuda.is_available():\n",
        "      device = torch.device(\"cuda\")\n",
        "    else:\n",
        "      device = torch.device(\"cpu\")\n",
        "    \n",
        "    # Set paths to datasets\n",
        "    paths = {\n",
        "        'train_imgs': os.path.join(data_dir, 'train-images-idx3-ubyte.gz'),\n",
        "        'train_labs': os.path.join(data_dir, 'train-labels-idx1-ubyte.gz'),\n",
        "        'test_imgs': os.path.join(data_dir,'t10k-images-idx3-ubyte.gz'),\n",
        "        'test_labs': os.path.join(data_dir,'t10k-labels-idx1-ubyte.gz')\n",
        "    }\n",
        "\n",
        "    # Load datasets\n",
        "    train_loader, test_loader = load_all_datasets(**paths, batch_size = config['batch_size'])\n",
        "    \n",
        "    # Set parameters\n",
        "    net = Net(config['nb_units'], input_dim, output_dim)\n",
        "    \n",
        "    # Send net object to device memory\n",
        "    net.to(device)\n",
        "    \n",
        "    # We use the cross-entropy loss\n",
        "    criterion = nn.CrossEntropyLoss()\n",
        "\n",
        "    # We use mini-batch stochastic gradient descent with momentum\n",
        "    optimizer = optim.SGD(net.parameters(), lr=config['lr'], momentum=config['momentum'])\n",
        "\n",
        "    # Loop over the dataset multiple times\n",
        "    for epoch in range(epochs):  \n",
        "        \n",
        "        # Initialize running loss\n",
        "        running_loss = 0.0\n",
        "        running_accuracy = 0.0\n",
        "\n",
        "        # Initialize the validation running loss\n",
        "        val_running_loss = 0.0\n",
        "        val_running_accuracy = 0.0\n",
        "        \n",
        "        # Iterate through data now\n",
        "        for i, data in enumerate(train_loader):\n",
        "            \n",
        "            # Get the inputs: data is a list of [inputs, labels]\n",
        "            inputs, labels = data\n",
        "            \n",
        "            # Send the inputs to the memory of the device\n",
        "            inputs, labels = inputs.to(device), labels.to(device)\n",
        "\n",
        "            # Zero the parameter gradients\n",
        "            optimizer.zero_grad()\n",
        "\n",
        "            # Forward\n",
        "            outputs = net(inputs)\n",
        "            \n",
        "            # Calculate loss\n",
        "            loss = criterion(outputs, labels)\n",
        "\n",
        "            # Get predictions\n",
        "            _, preds = torch.max(outputs.data, 1)\n",
        "            \n",
        "            # Backward\n",
        "            loss.backward()\n",
        "            \n",
        "            # Optimize\n",
        "            optimizer.step()\n",
        "\n",
        "            # Add to running loss\n",
        "            running_loss += loss.item()\n",
        "\n",
        "            # Add to running accuracy\n",
        "            running_accuracy += (preds == labels).float().sum()\n",
        "        \n",
        "        # Loop through the validation data\n",
        "        for j, data in enumerate(test_loader):\n",
        "          \n",
        "          # No need to calculate gradients for validation set\n",
        "          with torch.no_grad():\n",
        "\n",
        "              # Get the data item \n",
        "              val_inputs, val_labels = data\n",
        "              val_inputs, val_labels = val_inputs.to(device), val_labels.to(device)\n",
        "\n",
        "              # Send the data item through the network to get output\n",
        "              val_outputs = net(val_inputs)\n",
        "\n",
        "              # Compute the loss\n",
        "              val_loss = criterion(val_outputs, val_labels)\n",
        "\n",
        "              # Get predictions\n",
        "              _, val_preds = torch.max(val_outputs.data, 1)\n",
        "\n",
        "              # Add to running loss\n",
        "              val_running_loss += val_loss.item()\n",
        "\n",
        "              # Add to running accuracy\n",
        "              val_running_accuracy += (val_preds == val_labels).float().sum()\n",
        "        \n",
        "        # Rescale the training and validation perfomance metrics\n",
        "        running_loss = running_loss/len(train_loader)\n",
        "        running_accuracy = running_accuracy/(len(train_loader)*config['batch_size'])\n",
        "        \n",
        "        # Rescale the validation loss\n",
        "        val_running_loss = val_running_loss/len(test_loader)\n",
        "        val_running_accuracy = val_running_accuracy/(len(test_loader)*config['batch_size'])\n",
        "        \n",
        "        # Make print message format string\n",
        "        msg = \"{}, Epoch:{}, Loss:{}, Accuracy:{},\" \"\\n\"\n",
        "\n",
        "        # Print performance\n",
        "        print(msg.format(\"Training\", epoch, running_loss, running_accuracy))\n",
        "        print(msg.format(\"Validation\", epoch, val_running_loss, val_running_accuracy))\n",
        "        \n",
        "        tune.report(loss= val_running_loss, accuracy= val_running_accuracy)\n",
        "\n",
        "    # Print message\n",
        "    print('Done training...')"
      ],
      "execution_count": null,
      "outputs": []
    },
    {
      "cell_type": "code",
      "metadata": {
        "id": "lknQEmr1wgiF"
      },
      "source": [
        "def get_random_hyper_parameters(n_layers=4):\n",
        "    '''\n",
        "    Randomly select hyper-parameters to train with\n",
        "    '''\n",
        "    config = {\n",
        "        \n",
        "      'lr': np.random.uniform(1e-4, 1e-1),\n",
        "      'batch_size': 512,\n",
        "      'weight_decay': np.random.uniform(1e-3, 1e-1),\n",
        "      'nb_units': [2**np.random.randint(2,9) for i in range(n_layers)],\n",
        "      'momentum': np.random.choice([0.1, 0.2, 0.3, 0.4, 0.5, 0.6, 0.7, 0.8, 0.9])\n",
        "\n",
        "    }\n",
        "    \n",
        "    return(config)"
      ],
      "execution_count": null,
      "outputs": []
    },
    {
      "cell_type": "code",
      "metadata": {
        "colab": {
          "base_uri": "https://localhost:8080/"
        },
        "id": "LoFum6Ym6jm9",
        "outputId": "243ea3c6-c337-4790-b1b1-faec2f7f6f5f"
      },
      "source": [
        "def run_grid_search(num_samples=500, n_layers=4):\n",
        "\n",
        "  for i in range(num_samples): \n",
        "    config = get_random_hyper_parameters(n_layers)\n",
        "    results = train(config, epochs = 100)\n",
        "  \n",
        "  return(results)"
      ],
      "execution_count": null,
      "outputs": [
        {
          "output_type": "execute_result",
          "data": {
            "text/plain": [
              "{'batch_size': 512,\n",
              " 'lr': 0.01,\n",
              " 'momentum': 0.8,\n",
              " 'nb_units': [256, 128, 64, 16],\n",
              " 'weight_decay': 0.033018314247163325}"
            ]
          },
          "metadata": {
            "tags": []
          },
          "execution_count": 130
        }
      ]
    },
    {
      "cell_type": "code",
      "metadata": {
        "colab": {
          "base_uri": "https://localhost:8080/",
          "height": 120
        },
        "id": "QgBj-FezDwK4",
        "outputId": "db4b6cc2-510e-4e21-e691-9641765ee8fa"
      },
      "source": [
        "'''\n",
        "config = {\n",
        "        \n",
        "      'lr': tune.grid_search([1e-4, 1e-3, 1e-2, 1e-1]),\n",
        "      'batch_size': tune.grid_search([512, 1024]),\n",
        "      'weight_decay': tune.grid_search([1e-3, 1e-2, 1e-1]),\n",
        "      'nb_units': [132, 64, 32, 16],\n",
        "      'momentum': tune.grid_search([0.1, 0.2, 0.3, 0.4, 0.5, 0.6, 0.7, 0.8, 0.9])\n",
        "\n",
        "}\n",
        "\n",
        "\n",
        "config = {\n",
        "        \n",
        "      'lr': tune.grid_search([1e-4]),\n",
        "      'batch_size': tune.grid_search([1024]),\n",
        "      'weight_decay': tune.grid_search([1e-1]),\n",
        "      'nb_units': tune.grid_search([[132, 64, 32, 16]]),\n",
        "      'momentum': tune.grid_search([0.2])\n",
        "\n",
        "}\n",
        "\n",
        "tune.run(train, config=config, \n",
        "         resources_per_trial={'cpu': 2, 'gpu': 0.5}, \n",
        "         local_dir = '/content/drive/MyDrive/checkpoints', \n",
        "         checkpoint_freq=1)\n",
        "'''"
      ],
      "execution_count": 146,
      "outputs": [
        {
          "output_type": "execute_result",
          "data": {
            "application/vnd.google.colaboratory.intrinsic+json": {
              "type": "string"
            },
            "text/plain": [
              "\"\\nconfig = {\\n        \\n      'lr': tune.grid_search([1e-4, 1e-3, 1e-2, 1e-1]),\\n      'batch_size': tune.grid_search([512, 1024]),\\n      'weight_decay': tune.grid_search([1e-3, 1e-2, 1e-1]),\\n      'nb_units': [132, 64, 32, 16],\\n      'momentum': tune.grid_search([0.1, 0.2, 0.3, 0.4, 0.5, 0.6, 0.7, 0.8, 0.9])\\n\\n}\\n\\n\\nconfig = {\\n        \\n      'lr': tune.grid_search([1e-4]),\\n      'batch_size': tune.grid_search([1024]),\\n      'weight_decay': tune.grid_search([1e-1]),\\n      'nb_units': tune.grid_search([[132, 64, 32, 16]]),\\n      'momentum': tune.grid_search([0.2])\\n\\n}\\n\\ntune.run(train, config=config, \\n         resources_per_trial={'cpu': 2, 'gpu': 0.5}, \\n         local_dir = '/content/drive/MyDrive/checkpoints', \\n         checkpoint_freq=1)\\n\""
            ]
          },
          "metadata": {
            "tags": []
          },
          "execution_count": 146
        }
      ]
    }
  ]
}