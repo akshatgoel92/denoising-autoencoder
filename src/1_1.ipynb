{
  "nbformat": 4,
  "nbformat_minor": 0,
  "metadata": {
    "kernelspec": {
      "display_name": "Python 3",
      "language": "python",
      "name": "python3"
    },
    "language_info": {
      "codemirror_mode": {
        "name": "ipython",
        "version": 3
      },
      "file_extension": ".py",
      "mimetype": "text/x-python",
      "name": "python",
      "nbconvert_exporter": "python",
      "pygments_lexer": "ipython3",
      "version": "3.8.0"
    },
    "colab": {
      "name": "mlp.ipynb",
      "provenance": [],
      "collapsed_sections": []
    },
    "accelerator": "GPU"
  },
  "cells": [
    {
      "cell_type": "code",
      "metadata": {
        "colab": {
          "base_uri": "https://localhost:8080/"
        },
        "id": "2WDdC5E0llYu",
        "outputId": "48e79c7a-e1ff-4c6c-9a5c-10bc1d05ed19"
      },
      "source": [
        "from google.colab import drive\n",
        "drive.mount('/content/drive')"
      ],
      "execution_count": 112,
      "outputs": [
        {
          "output_type": "stream",
          "text": [
            "Drive already mounted at /content/drive; to attempt to forcibly remount, call drive.mount(\"/content/drive\", force_remount=True).\n"
          ],
          "name": "stdout"
        }
      ]
    },
    {
      "cell_type": "code",
      "metadata": {
        "colab": {
          "base_uri": "https://localhost:8080/"
        },
        "id": "-XQHea_TnP4S",
        "outputId": "6cdaaa6f-1eb4-4f99-8fd1-93bc43d5d71c"
      },
      "source": [
        "# Install idx2numpy package for extracting data\n",
        "!pip install idx2numpy"
      ],
      "execution_count": 113,
      "outputs": [
        {
          "output_type": "stream",
          "text": [
            "Requirement already satisfied: idx2numpy in /usr/local/lib/python3.6/dist-packages (1.2.3)\n",
            "Requirement already satisfied: six in /usr/local/lib/python3.6/dist-packages (from idx2numpy) (1.15.0)\n",
            "Requirement already satisfied: numpy in /usr/local/lib/python3.6/dist-packages (from idx2numpy) (1.18.5)\n"
          ],
          "name": "stdout"
        }
      ]
    },
    {
      "cell_type": "code",
      "metadata": {
        "id": "-9CsmgA1jCg4"
      },
      "source": [
        "# Import packages\n",
        "import os\n",
        "import gzip\n",
        "import torch\n",
        "import torchvision\n",
        "import numpy as np \n",
        "import pandas as pd\n",
        "\n",
        "import idx2numpy\n",
        "import torch.nn as nn\n",
        "import torch.optim as optim\n",
        "import torch.nn.functional as F"
      ],
      "execution_count": 114,
      "outputs": []
    },
    {
      "cell_type": "code",
      "metadata": {
        "id": "RmfcKJJCjCg5"
      },
      "source": [
        "def load_one_dataset(path):\n",
        "    '''\n",
        "    Convenience function to load a single dataset\n",
        "    '''\n",
        "    f = gzip.open(path, 'rb')\n",
        "    data = torch.from_numpy(idx2numpy.convert_from_file(f))\n",
        "    f.close()\n",
        "    \n",
        "    return(data)\n",
        "\n",
        "\n",
        "def load_all_datasets(train_imgs, train_labs, test_imgs, test_labs, batch_size):\n",
        "    '''\n",
        "    Load training as well as test images here\n",
        "    '''\n",
        "    train_images = load_one_dataset(train_imgs).type(torch.float32)\n",
        "    train_labels = load_one_dataset(train_labs).type(torch.long)\n",
        "    train = list(zip(train_images, train_labels))\n",
        "\n",
        "    test_images = load_one_dataset(test_imgs).type(torch.float32)\n",
        "    test_labels = load_one_dataset(test_labs).type(torch.long)\n",
        "    test = list(zip(test_images, test_labels))\n",
        "    \n",
        "    train_loader = torch.utils.data.DataLoader(train, batch_size=batch_size, shuffle=True, num_workers=2)\n",
        "    test_loader = torch.utils.data.DataLoader(test, batch_size=batch_size, shuffle=False, num_workers=2)\n",
        "    \n",
        "    return(train_loader, test_loader)"
      ],
      "execution_count": 115,
      "outputs": []
    },
    {
      "cell_type": "code",
      "metadata": {
        "id": "QxKAhnC9rieJ"
      },
      "source": [
        "class Net(nn.Module):\n",
        "  \n",
        "  def __init__(self, nb_units, input_dim, output_dim):\n",
        "    '''\n",
        "    Declare the network architecture here\n",
        "    '''\n",
        "    super(Net, self).__init__()\n",
        "    \n",
        "    # Initialize a list to store layers\n",
        "    fc = []\n",
        "\n",
        "    # Add input and output dimensions to layer list\n",
        "    self.nb_units = [input_dim] + nb_units + [output_dim]\n",
        "\n",
        "    # Now compute the total no. of layers\n",
        "    self.nb_layers = len(self.nb_units)\n",
        "\n",
        "    # Now append the hidden layers\n",
        "    for i in range(1, self.nb_layers):\n",
        "      fc.append(nn.Linear(self.nb_units[i-1], self.nb_units[i]))\n",
        "    \n",
        "    # Wrap this in a module list \n",
        "    self.fc = nn.ModuleList(fc)\n",
        "    \n",
        "  \n",
        "  def forward(self, x):\n",
        "    '''\n",
        "    Send input forward through \n",
        "    the network\n",
        "    '''\n",
        "    # Reshape 28X28 images to be 784 X 784\n",
        "    x = x.view(-1, 28*28)\n",
        "\n",
        "    # Send example through network\n",
        "    for layer in self.fc: x = F.relu(layer(x))\n",
        "    \n",
        "    # Return statement\n",
        "    return x"
      ],
      "execution_count": 116,
      "outputs": []
    },
    {
      "cell_type": "code",
      "metadata": {
        "id": "mGe3H8TIjCg5"
      },
      "source": [
        "def train(config, input_dim=784, output_dim = 10, epochs=2,\n",
        "          data_dir = '/content/drive/MyDrive/data'):\n",
        "    '''\n",
        "    This is the main training loop\n",
        "    '''\n",
        "    # Set device\n",
        "    if torch.cuda.is_available():\n",
        "      device = torch.device(\"cuda\")\n",
        "    else:\n",
        "      device = torch.device(\"cpu\")\n",
        "    \n",
        "    # Set paths to datasets\n",
        "    paths = {\n",
        "        'train_imgs': os.path.join(data_dir, 'train-images-idx3-ubyte.gz'),\n",
        "        'train_labs': os.path.join(data_dir, 'train-labels-idx1-ubyte.gz'),\n",
        "        'test_imgs': os.path.join(data_dir,'t10k-images-idx3-ubyte.gz'),\n",
        "        'test_labs': os.path.join(data_dir,'t10k-labels-idx1-ubyte.gz')\n",
        "    }\n",
        "\n",
        "    # Load datasets\n",
        "    train_loader, test_loader = load_all_datasets(**paths, batch_size = config['batch_size'])\n",
        "    \n",
        "    # Set parameters\n",
        "    net = Net(config['nb_units'], input_dim, output_dim)\n",
        "    \n",
        "    # Send net object to device memory\n",
        "    net.to(device)\n",
        "    \n",
        "    # We use the cross-entropy loss\n",
        "    criterion = nn.CrossEntropyLoss()\n",
        "\n",
        "    # We use mini-batch stochastic gradient descent with momentum\n",
        "    optimizer = optim.SGD(net.parameters(), lr=config['lr'], momentum=config['momentum'])\n",
        "\n",
        "    # Loop over the dataset multiple times\n",
        "    for epoch in range(epochs):  \n",
        "        \n",
        "        # Initialize running loss\n",
        "        running_loss = 0.0\n",
        "        running_accuracy = 0.0\n",
        "\n",
        "        # Initialize the validation running loss\n",
        "        val_running_loss = 0.0\n",
        "        val_running_accuracy = 0.0\n",
        "        \n",
        "        # Iterate through data now\n",
        "        for i, data in enumerate(train_loader):\n",
        "            \n",
        "            # Get the inputs: data is a list of [inputs, labels]\n",
        "            inputs, labels = data\n",
        "            \n",
        "            # Send the inputs to the memory of the device\n",
        "            inputs, labels = inputs.to(device), labels.to(device)\n",
        "\n",
        "            # Zero the parameter gradients\n",
        "            optimizer.zero_grad()\n",
        "\n",
        "            # Forward\n",
        "            outputs = net(inputs)\n",
        "            \n",
        "            # Calculate loss\n",
        "            loss = criterion(outputs, labels)\n",
        "\n",
        "            # Get predictions\n",
        "            _, preds = torch.max(outputs.data, 1)\n",
        "            \n",
        "            # Backward\n",
        "            loss.backward()\n",
        "            \n",
        "            # Optimize\n",
        "            optimizer.step()\n",
        "\n",
        "            # Add to running loss\n",
        "            running_loss += loss.item()\n",
        "\n",
        "            # Add to running accuracy\n",
        "            running_accuracy += (preds == labels).float().sum()\n",
        "        \n",
        "        # Loop through the validation data\n",
        "        for j, data in enumerate(test_loader):\n",
        "          \n",
        "          # No need to calculate gradients for validation set\n",
        "          with torch.no_grad():\n",
        "\n",
        "              # Get the data item \n",
        "              val_inputs, val_labels = data\n",
        "              val_inputs, val_labels = val_inputs.to(device), val_labels.to(device)\n",
        "\n",
        "              # Send the data item through the network to get output\n",
        "              val_outputs = net(val_inputs)\n",
        "\n",
        "              # Compute the loss\n",
        "              val_loss = criterion(val_outputs, val_labels)\n",
        "\n",
        "              # Get predictions\n",
        "              _, val_preds = torch.max(val_outputs.data, 1)\n",
        "\n",
        "              # Add to running loss\n",
        "              val_running_loss += val_loss.item()\n",
        "\n",
        "              # Add to running accuracy\n",
        "              val_running_accuracy += (val_preds == val_labels).float().sum()\n",
        "        \n",
        "        # Rescale the training and validation perfomance metrics\n",
        "        running_loss = running_loss/len(train_loader)\n",
        "        running_accuracy = running_accuracy/(len(train_loader)*config['batch_size'])\n",
        "        \n",
        "        # Rescale the validation loss\n",
        "        val_running_loss = val_running_loss/len(test_loader)\n",
        "        val_running_accuracy = val_running_accuracy/(len(test_loader)*config['batch_size'])\n",
        "        \n",
        "        # Make print message format string\n",
        "        msg = \"{}, Epoch:{}, Loss:{}, Accuracy:{},\" \"\\n\"\n",
        "\n",
        "        # Print performance\n",
        "        print(msg.format(\"Training\", epoch, running_loss, running_accuracy))\n",
        "        print(msg.format(\"Validation\", epoch, val_running_loss, val_running_accuracy))\n",
        "        \n",
        "    # Print message\n",
        "    print('Done training...')\n",
        "\n",
        "    # Wrap results in a dictionary\n",
        "    results = {\n",
        "      'train_loss': np.float(running_loss), \n",
        "      'train_accuracy': np.float(running_accuracy),\n",
        "      'val_loss': np.float(val_running_loss), \n",
        "      'val_running_loss': np.float(val_running_accuracy)\n",
        "    }\n",
        "\n",
        "    # Return statement\n",
        "    return(results)"
      ],
      "execution_count": 117,
      "outputs": []
    },
    {
      "cell_type": "code",
      "metadata": {
        "id": "lknQEmr1wgiF"
      },
      "source": [
        "def get_random_hyper_parameters(n_layers=4):\n",
        "    '''\n",
        "    Randomly select hyper-parameters to train with\n",
        "    '''\n",
        "    config = {\n",
        "        \n",
        "      'lr': np.random.uniform(1e-4, 1e-1),\n",
        "      'batch_size': 512,\n",
        "      'weight_decay': np.random.uniform(1e-3, 1e-1),\n",
        "      'nb_units': [2**np.random.randint(2,9) for i in range(n_layers)],\n",
        "      'momentum': np.random.choice([0.1, 0.2, 0.3, 0.4, 0.5, 0.6, 0.7, 0.8, 0.9]),\n",
        "      'done': 0\n",
        "    }\n",
        "    \n",
        "    return(config)"
      ],
      "execution_count": 118,
      "outputs": []
    },
    {
      "cell_type": "code",
      "metadata": {
        "id": "RibzX_A2wFfu"
      },
      "source": [
        "def get_random_grid(n_samples=500, n_layers=4):\n",
        "  '''\n",
        "  Get a random set of hyper-parameter combinations\n",
        "  to test with for a given number of layers. \n",
        "  '''\n",
        "  \n",
        "  # Store the grid and results in this dictionary\n",
        "  experiment = {\n",
        "      \n",
        "      'params': [], \n",
        "      'results': []\n",
        "\n",
        "  }\n",
        "  \n",
        "  # This will generate the list of parameter combinations to search\n",
        "  for i in range(n_samples):   \n",
        "    config = get_random_hyper_parameters(n_layers)\n",
        "    experiment['params'].append(config)\n",
        "\n",
        "  # This is the experiment label\n",
        "  experiment_name = '{}_samples_{}_layers.json'.format(n_samples, n_layers)\n",
        "\n",
        "  # This is the experiment path\n",
        "  path = os.path.join(\"/content/drive/MyDrive/checkpoints\", experiment_name)\n",
        "\n",
        "  # We write the experiment dictionary as a .json file\n",
        "  with open(path, 'w', encoding='utf-8') as f:\n",
        "    json.dump(experiment, f, ensure_ascii=False, indent=4)\n"
      ],
      "execution_count": 119,
      "outputs": []
    },
    {
      "cell_type": "code",
      "metadata": {
        "id": "LoFum6Ym6jm9"
      },
      "source": [
        "def run_grid_search(n_samples=500, n_layers=4):\n",
        "  '''\n",
        "  Run the grid search\n",
        "  '''\n",
        "\n",
        "  # First we load the experiment dictionary\n",
        "  experiment_name = '{}_samples_{}_layers.json'.format(n_samples, n_layers)\n",
        "  \n",
        "  # Create the complete path\n",
        "  path = os.path.join(\"/content/drive/MyDrive/checkpoints\", experiment_name)\n",
        "  \n",
        "  # Load the experiment data file\n",
        "  with open(path, 'r', encoding='utf-8') as f:\n",
        "    experiment = json.load(f)\n",
        "\n",
        "  # Loop through experiments data file\n",
        "  for i, config in enumerate(experiment['params']):\n",
        "    \n",
        "    # Print progress report\n",
        "    print(\"This is experiment {}\".format(i))\n",
        "\n",
        "    # Run experiments only for those parameter combinations which have not been tested\n",
        "    if config['done'] == 0:\n",
        "      results = train(config, epochs = 2)\n",
        "      experiment['results'].append(results) \n",
        "      config['done'] = 1\n",
        "    \n",
        "    # We update the .json dictionary every 15 iterations\n",
        "    if i%15 == 0:\n",
        "      with open(path, 'w', encoding='utf-8') as f:\n",
        "        json.dump(experiment, f, ensure_ascii=False, indent=4)"
      ],
      "execution_count": 121,
      "outputs": []
    },
    {
      "cell_type": "code",
      "metadata": {
        "id": "QgBj-FezDwK4"
      },
      "source": [
        "# Create a new random grid if needed\n",
        "np.random.seed(129031908)\n",
        "if new == 1: get_random_grid(num_samples, n_layers)"
      ],
      "execution_count": null,
      "outputs": []
    },
    {
      "cell_type": "code",
      "metadata": {
        "id": "ceYpawbIR1au"
      },
      "source": [
        "# Run the grid search\n",
        "run_grid_search(num_samples, n_layers)"
      ],
      "execution_count": null,
      "outputs": []
    }
  ]
}